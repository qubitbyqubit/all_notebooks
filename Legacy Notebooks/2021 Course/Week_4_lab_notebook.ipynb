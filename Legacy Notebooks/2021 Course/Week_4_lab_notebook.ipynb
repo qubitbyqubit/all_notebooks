{
 "cells": [
  {
   "cell_type": "markdown",
   "id": "d2497f68-e565-4dec-8d5e-ec337e37128e",
   "metadata": {
    "id": "d2497f68-e565-4dec-8d5e-ec337e37128e"
   },
   "source": [
    "<div style=\"text-align: center; margin: 50px\">\n",
    "\n",
    "<h1 style=\"text-align: center;\">Qubit by Qubit</h1>\n",
    "<h2 style=\"text-align: center;\">Introduction to Quantum Computing</h1>\n",
    "<h3>Week 4 - Introduction to Qiskit</h3>\n",
    "<h3>Lab notebook</h3>\n",
    "\n",
    "</div>"
   ]
  },
  {
   "cell_type": "code",
   "execution_count": null,
   "id": "863aa459-349d-43be-b305-f1ca757b4858",
   "metadata": {
    "id": "863aa459-349d-43be-b305-f1ca757b4858"
   },
   "outputs": [],
   "source": [
    "# Importing standard Qiskit libraries\n",
    "from qiskit import QuantumCircuit  #Importing the QuantumCircuit function from Qiskit. We will use this to create our quantum circuits!\n",
    "\n",
    "from qiskit.visualization import visualize_transition # We will use this function to run our circuit and visualize its final state\n",
    "\n",
    "import warnings  # We are using this library to suppress some warning messages\n",
    "warnings.filterwarnings(\"ignore\")\n",
    "\n",
    "print(\"Libraries imported successfully!\")"
   ]
  },
  {
   "cell_type": "code",
   "execution_count": null,
   "id": "8960aede-1965-4905-92ba-4ee36f22855f",
   "metadata": {
    "id": "8960aede-1965-4905-92ba-4ee36f22855f"
   },
   "outputs": [],
   "source": [
    "# Block 1 - Define a 1-qubit circuit named qc using the QuantumCircuit() function."
   ]
  },
  {
   "cell_type": "code",
   "execution_count": null,
   "id": "7cde8cc7-c6a9-4ecd-adc6-7247efefd7c2",
   "metadata": {
    "id": "7cde8cc7-c6a9-4ecd-adc6-7247efefd7c2"
   },
   "outputs": [],
   "source": [
    "# Block 2 - Add an X gate to your circuit from the previous block using qc.x(0)"
   ]
  },
  {
   "cell_type": "code",
   "execution_count": null,
   "id": "0265fd66-3c78-48c0-a8d2-c0349ef09407",
   "metadata": {
    "id": "0265fd66-3c78-48c0-a8d2-c0349ef09407"
   },
   "outputs": [],
   "source": [
    "# Block 3 - Draw your circuit using the qc.draw() function"
   ]
  },
  {
   "cell_type": "code",
   "execution_count": null,
   "id": "63c31d83-6c40-481c-a319-dfba2c7b4849",
   "metadata": {
    "id": "63c31d83-6c40-481c-a319-dfba2c7b4849"
   },
   "outputs": [],
   "source": [
    "# Block 4 - Run your circuit using the code: visualize_transition(qc, trace = True)"
   ]
  },
  {
   "cell_type": "code",
   "execution_count": null,
   "id": "6abe3595-de47-4b43-a4b5-887467be8974",
   "metadata": {
    "id": "6abe3595-de47-4b43-a4b5-887467be8974",
    "tags": []
   },
   "outputs": [],
   "source": [
    "# Block 5 - Define a 1-qubit quantum circuit and add an H gate to it. Run the circuit using the visualize_transition function"
   ]
  },
  {
   "cell_type": "markdown",
   "id": "f38a6ea6-d391-45c5-aff7-5203d02e66e9",
   "metadata": {
    "id": "f38a6ea6-d391-45c5-aff7-5203d02e66e9",
    "tags": []
   },
   "source": [
    "# Optional content"
   ]
  },
  {
   "cell_type": "code",
   "execution_count": null,
   "id": "2fef1ca4-8714-45ec-9b40-e61292dff9cc",
   "metadata": {
    "id": "2fef1ca4-8714-45ec-9b40-e61292dff9cc"
   },
   "outputs": [],
   "source": [
    "# Block 6 - Define a 1-qubit quantum circuit. Add an H gate and then an X gate to the circuit and visualizing the output."
   ]
  },
  {
   "cell_type": "code",
   "execution_count": null,
   "id": "4a2e0a20-17b1-4ef2-a454-5a13b4976d41",
   "metadata": {
    "id": "4a2e0a20-17b1-4ef2-a454-5a13b4976d41"
   },
   "outputs": [],
   "source": [
    "# Block 7 - Define a 1-qubit quantum circuit. Add an X gate and then an H gate to the circuit and visualizing the output. Is it the same as in the previous block?"
   ]
  }
 ],
 "metadata": {
  "colab": {
   "name": "Week_4_lab_notebook.ipynb",
   "provenance": []
  },
  "kernelspec": {
   "display_name": "Python 3 (ipykernel)",
   "language": "python",
   "name": "python3"
  },
  "language_info": {
   "codemirror_mode": {
    "name": "ipython",
    "version": 3
   },
   "file_extension": ".py",
   "mimetype": "text/x-python",
   "name": "python",
   "nbconvert_exporter": "python",
   "pygments_lexer": "ipython3",
   "version": "3.9.5"
  }
 },
 "nbformat": 4,
 "nbformat_minor": 5
}
