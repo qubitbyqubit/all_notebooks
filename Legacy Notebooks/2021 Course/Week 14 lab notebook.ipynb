{
 "cells": [
  {
   "cell_type": "markdown",
   "id": "b4386340-74f7-4569-9eb9-eafa1a0371d6",
   "metadata": {
    "id": "b4386340-74f7-4569-9eb9-eafa1a0371d6",
    "tags": []
   },
   "source": [
    "<div style=\"text-align: center; margin: 50px\">\n",
    "\n",
    "<h1 style=\"text-align: center;\">Qubit by Qubit</h1>\n",
    "<h2 style=\"text-align: center;\">Introduction to Quantum Computing</h1>\n",
    "<h3>Week 14 - Measurements in Multi-Qubit Circuits in Qiskit</h3>\n",
    "<h3>Lab notebook</h3>\n",
    "\n",
    "</div>"
   ]
  },
  {
   "cell_type": "code",
   "execution_count": null,
   "id": "a714bdf2-f616-451c-995e-a0177a4d498d",
   "metadata": {
    "id": "a714bdf2-f616-451c-995e-a0177a4d498d"
   },
   "outputs": [],
   "source": [
    "import numpy as np\n",
    "# Importing standard Qiskit libraries\n",
    "from qiskit import QuantumCircuit, execute, transpile, Aer, IBMQ\n",
    "from qiskit.tools.jupyter import *\n",
    "from qiskit.visualization import *\n",
    "from ibm_quantum_widgets import *\n",
    "\n",
    "# Loading your IBM Quantum account(s)\n",
    "provider = IBMQ.load_account()\n",
    "print('Libraries imported successfully!')"
   ]
  },
  {
   "cell_type": "markdown",
   "id": "2004baab-b974-4492-be4f-85ee00712510",
   "metadata": {
    "id": "2004baab-b974-4492-be4f-85ee00712510"
   },
   "source": [
    "## Coding cheat sheet:\n",
    "\n",
    "`qc = QuantumCircuit(2)` # Define a 2 qubit quantum circuit <br>\n",
    "`qc = QuantumCircuit(2,2)` # Define a 2 qubit quantum circuit with 2 classical bit (Only for QASM simulator or real Quantum Computer) <br>\n",
    "\n",
    "`qc.x(0)` #Add an X gate <br>\n",
    "`qc.h(0)` #Add an H gate <br>\n",
    "`qc.z(0)` #Add a Z gate <br>\n",
    "\n",
    "`qc.measure([0,1],[0,1])` # Add measurement to circuit (Only for QASM simulator or real Quantum Computer) <br>\n",
    "\n",
    "`qc.draw()` # Draw the circuit <br>\n",
    "\n",
    "\n",
    "### Set up and run the statevector simulator:<br>\n",
    "\n",
    "`backend = Aer.get_backend('statevector_simulator')` # Tell it which simulator you want to use <br>\n",
    "`job = execute(qc,backend)` # Put in the name of your quantum circuit where it says qc<br>\n",
    "`result = job.result()` <br>\n",
    "\n",
    "### Set up and run the QASM simulator:<br>\n",
    "\n",
    "`backend = Aer.get_backend('qasm_simulator')` # Tell it which simulator you want to use <br>\n",
    "`job = execute(qc,backend, shots = 1024)` # Put in the name of your quantum circuit where it says qc, and the number of shots you want to use<br>\n",
    "`result = job.result()` <br>\n",
    "\n",
    "### Set up and run on a real quantum computer :<br>\n",
    "`from qiskit.providers.ibmq import least_busy` <br>\n",
    "`backend = least_busy(provider.backends(filters=lambda x: x.configuration().n_qubits >= 2 and` <br>\n",
    "                                        `not x.configuration().simulator and x.status().operational==True))` # Find the least busy QC <br>\n",
    "\n",
    "`job = execute(qc,backend, shots = 1024)` # Put in the name of your quantum circuit where it says qc, and the number of shots you want to use<br>\n",
    "`result = job.result()` <br>\n",
    "\n",
    "\n",
    "### See the output in vector form (only for Statevector simulator):<br>\n",
    "`state = result.get_statevector()` <br>\n",
    "`array_to_latex(state, prefix=\"\\\\text{Statevector} = \")` <br>\n",
    "\n",
    "### See the output in histogram form (for Statevector, QASM, or real quantum computer): <br>\n",
    "`counts = result.get_counts()` <br>\n",
    "`plot_histogram(counts)` <br>\n",
    "\n"
   ]
  },
  {
   "cell_type": "code",
   "execution_count": null,
   "id": "8c7dbab5-aff4-4b5c-94f9-f7b4d737a00c",
   "metadata": {
    "id": "8c7dbab5-aff4-4b5c-94f9-f7b4d737a00c"
   },
   "outputs": [],
   "source": [
    "# Block 1: Create a quantum circuit with 2 qubits and 2 classical bits. \n",
    "# Add an H gate to qubit 0, and an X gate to qubit 1."
   ]
  },
  {
   "cell_type": "code",
   "execution_count": null,
   "id": "a9155783-2c2f-4395-a5fa-3d895e4237b2",
   "metadata": {
    "id": "a9155783-2c2f-4395-a5fa-3d895e4237b2"
   },
   "outputs": [],
   "source": [
    "# Block 2: Add measurements to the circuit using qc.measure([0,1],[0,1]) and draw it."
   ]
  },
  {
   "cell_type": "code",
   "execution_count": null,
   "id": "2492fe5e-29bc-43bc-862e-063107791ce1",
   "metadata": {
    "id": "2492fe5e-29bc-43bc-862e-063107791ce1"
   },
   "outputs": [],
   "source": [
    "# Block 3: Simulate the circuit using the QASM simulator and plot the histogram. \n",
    "# Feel free to copy code from the cheat sheet!"
   ]
  },
  {
   "cell_type": "code",
   "execution_count": null,
   "id": "97a2011a-b0fb-4fdc-818c-48b73eb08d6f",
   "metadata": {
    "id": "97a2011a-b0fb-4fdc-818c-48b73eb08d6f"
   },
   "outputs": [],
   "source": [
    "# Block 4: Block 4: Create a quantum circuit with 2 qubits and 2 classical bits. \n",
    "# Add an H gate to qubit 0 and an CX gate with qubit 0 as control and qubit 1 as target. \n",
    "# Add measurements to the circuit. Draw the circuit."
   ]
  },
  {
   "cell_type": "code",
   "execution_count": null,
   "id": "229598d7-216c-47ac-9089-f1dcb039404f",
   "metadata": {
    "id": "229598d7-216c-47ac-9089-f1dcb039404f"
   },
   "outputs": [],
   "source": [
    "# Block 5: Simulate the circuit using the QASM simulator and plot the histogram. \n",
    "# Feel free to copy code from the cheat sheet!"
   ]
  },
  {
   "cell_type": "code",
   "execution_count": null,
   "id": "b41b1064-8993-4913-9c51-27383216960a",
   "metadata": {
    "id": "b41b1064-8993-4913-9c51-27383216960a"
   },
   "outputs": [],
   "source": [
    "# Block 6: Run this block to find the least busy quantum computer. \n",
    "# Which system did you get?\n",
    "from qiskit.providers.ibmq import least_busy\n",
    "backend = least_busy(provider.backends(filters=lambda x: x.configuration().n_qubits >= 2 and \n",
    "                                        not x.configuration().simulator and x.status().operational==True))\n",
    "print(backend)"
   ]
  },
  {
   "cell_type": "code",
   "execution_count": null,
   "id": "c316b922-7661-48a0-8a94-d2e574a7c3e7",
   "metadata": {
    "id": "c316b922-7661-48a0-8a94-d2e574a7c3e7"
   },
   "outputs": [],
   "source": [
    "# Block 7: Run the circuit using the least busy QC and plot the histogram. \n",
    "# Feel free to copy code from the cheat sheet!"
   ]
  },
  {
   "cell_type": "code",
   "execution_count": null,
   "id": "25f44762-f27b-4260-b304-320e134ab650",
   "metadata": {
    "id": "25f44762-f27b-4260-b304-320e134ab650"
   },
   "outputs": [],
   "source": [
    "# Optional Block 1: Create a quantum circuit with 3 qubits and 3 classical bits. Add an H gate to qubit 0. \n",
    "# Add a CX gate with qubit 0 as control and 1 as target. \n",
    "# Add another CX with qubit 1 as control and 2 as target. \n",
    "# Add measurements to all 3 qubits and draw the circuit."
   ]
  },
  {
   "cell_type": "code",
   "execution_count": null,
   "id": "5d882dfa-c731-4b22-bef7-ffaea09e2dba",
   "metadata": {
    "id": "5d882dfa-c731-4b22-bef7-ffaea09e2dba"
   },
   "outputs": [],
   "source": [
    "# Optional Block 2: Simulate this circuit using the QASM simulator and plot the histogram. \n",
    "# What final state do you get?"
   ]
  }
 ],
 "metadata": {
  "colab": {
   "collapsed_sections": [],
   "name": "Week 14 lab notebook.ipynb",
   "provenance": []
  },
  "kernelspec": {
   "display_name": "Python 3 (ipykernel)",
   "language": "python",
   "name": "python3"
  },
  "language_info": {
   "codemirror_mode": {
    "name": "ipython",
    "version": 3
   },
   "file_extension": ".py",
   "mimetype": "text/x-python",
   "name": "python",
   "nbconvert_exporter": "python",
   "pygments_lexer": "ipython3",
   "version": "3.9.5"
  }
 },
 "nbformat": 4,
 "nbformat_minor": 5
}
