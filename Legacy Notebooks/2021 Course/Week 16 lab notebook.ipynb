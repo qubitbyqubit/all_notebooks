{
 "cells": [
  {
   "cell_type": "markdown",
   "id": "b4386340-74f7-4569-9eb9-eafa1a0371d6",
   "metadata": {
    "tags": []
   },
   "source": [
    "<div style=\"text-align: center; margin: 50px\">\n",
    "\n",
    "<h1 style=\"text-align: center;\">Qubit by Qubit</h1>\n",
    "<h2 style=\"text-align: center;\">Introduction to Quantum Computing</h1>\n",
    "<h3>Week 16 - Review Week</h3>\n",
    "<h3>Lab notebook</h3>\n",
    "\n",
    "</div>"
   ]
  },
  {
   "cell_type": "code",
   "execution_count": null,
   "id": "a714bdf2-f616-451c-995e-a0177a4d498d",
   "metadata": {},
   "outputs": [],
   "source": [
    "import numpy as np\n",
    "# Importing standard Qiskit libraries\n",
    "from qiskit import QuantumCircuit, execute, transpile, Aer, IBMQ\n",
    "from qiskit.tools.jupyter import *\n",
    "from qiskit.visualization import *\n",
    "from ibm_quantum_widgets import *\n",
    "from qiskit.quantum_info import random_unitary # This will be used in the optional content\n",
    "\n",
    "# Loading your IBM Quantum account(s)\n",
    "provider = IBMQ.load_account()\n",
    "print('Libraries imported successfully!')"
   ]
  },
  {
   "cell_type": "markdown",
   "id": "2004baab-b974-4492-be4f-85ee00712510",
   "metadata": {},
   "source": [
    "## Coding cheat sheet:\n",
    "\n",
    "`qc = QuantumCircuit(2)` # Define a 2 qubit quantum circuit <br>\n",
    "`qc = QuantumCircuit(2,2)` # Define a 2 qubit quantum circuit with 2 classical bit (Only for QASM simulator or real Quantum Computer) <br>\n",
    "\n",
    "`qc.x(0)` #Add an X gate <br>\n",
    "`qc.h(0)` #Add an H gate <br>\n",
    "`qc.z(0)` #Add a Z gate <br>\n",
    "\n",
    "`qc.measure([0,1],[0,1])` # Add measurement to circuit (Only for QASM simulator or real Quantum Computer) <br>\n",
    "\n",
    "`qc.draw()` # Draw the circuit <br>\n",
    "\n",
    "\n",
    "### Set up and run the statevector simulator:<br>\n",
    "\n",
    "`backend = Aer.get_backend('statevector_simulator')` # Tell it which simulator you want to use <br>\n",
    "`job = execute(qc,backend)` # Put in the name of your quantum circuit where it says qc<br>\n",
    "`result = job.result()` <br>\n",
    "\n",
    "### Set up and run the QASM simulator:<br>\n",
    "\n",
    "`backend = Aer.get_backend('qasm_simulator')` # Tell it which simulator you want to use <br>\n",
    "`job = execute(qc,backend, shots = 1024)` # Put in the name of your quantum circuit where it says qc, and the number of shots you want to use<br>\n",
    "`result = job.result()` <br>\n",
    "\n",
    "### Set up and run on a real quantum computer :<br>\n",
    "`from qiskit.providers.ibmq import least_busy` <br>\n",
    "`backend = least_busy(provider.backends(filters=lambda x: x.configuration().n_qubits >= 2 and` <br>\n",
    "                                        `not x.configuration().simulator and x.status().operational==True))` # Find the least busy QC <br>\n",
    "\n",
    "`job = execute(qc,backend, shots = 1024)` # Put in the name of your quantum circuit where it says qc, and the number of shots you want to use<br>\n",
    "`result = job.result()` <br>\n",
    "\n",
    "\n",
    "### See the output in vector form (only for Statevector simulator):<br>\n",
    "`state = result.get_statevector()` <br>\n",
    "`array_to_latex(state, prefix=\"\\\\text{Statevector} = \")` <br>\n",
    "\n",
    "### See the output in histogram form (for Statevector, QASM, or real quantum computer): <br>\n",
    "`counts = result.get_counts()` <br>\n",
    "`plot_histogram(counts)` <br>\n",
    "\n"
   ]
  },
  {
   "cell_type": "code",
   "execution_count": null,
   "id": "8c7dbab5-aff4-4b5c-94f9-f7b4d737a00c",
   "metadata": {},
   "outputs": [],
   "source": [
    "# Block 1: Look at the code in this block. Can you describe the circuit that it creates?\n",
    "qc = QuantumCircuit(2,2)\n",
    "qc.h(0)\n",
    "qc.z(0)\n",
    "qc.cx(0,1)\n",
    "qc.measure([0,1],[0,1])\n",
    "qc.draw()"
   ]
  },
  {
   "cell_type": "code",
   "execution_count": null,
   "id": "a9155783-2c2f-4395-a5fa-3d895e4237b2",
   "metadata": {},
   "outputs": [],
   "source": [
    "#Block 2: Look at the code in this block.\n",
    "#Which simulator is being used to run the circuit? \n",
    "#How many times will the circuit be simulated?\n",
    "#Is the output being presented as a histogram, or as a vector?\n",
    "\n",
    "backend = Aer.get_backend('qasm_simulator')\n",
    "job = execute(qc,backend, shots = 1024)\n",
    "result = job.result()\n",
    "\n",
    "counts = result.get_counts()\n",
    "plot_histogram(counts)"
   ]
  },
  {
   "cell_type": "code",
   "execution_count": null,
   "id": "2492fe5e-29bc-43bc-862e-063107791ce1",
   "metadata": {},
   "outputs": [],
   "source": [
    "# Block 3: Now, we want to run the same circuit, but we want to use Statevector simulator. \n",
    "# What changes would we have to make to the circuit, as defined in the code from Block 1? \n",
    "# Copy the code from Block 1 and make those changes."
   ]
  },
  {
   "cell_type": "code",
   "execution_count": null,
   "id": "97a2011a-b0fb-4fdc-818c-48b73eb08d6f",
   "metadata": {},
   "outputs": [],
   "source": [
    "# Block 4: What changes do we have to make to the code from Block 2 for running the circuit? \n",
    "# Copy the code from that block here and make those changes. \n",
    "# Do you expect the results to look different?"
   ]
  },
  {
   "cell_type": "code",
   "execution_count": null,
   "id": "229598d7-216c-47ac-9089-f1dcb039404f",
   "metadata": {},
   "outputs": [],
   "source": [
    "# Optional Block 1: Create a random unitary of size 4 using the random_unitary function. \n",
    "# Print U to see what it looks like.\n",
    "# Syntax: U = random_unitary(size)\n"
   ]
  },
  {
   "cell_type": "code",
   "execution_count": null,
   "id": "b41b1064-8993-4913-9c51-27383216960a",
   "metadata": {},
   "outputs": [],
   "source": [
    "# Optional Block 2: Create a 2 qubit quantum circuit named qc. \n",
    "# Apply the transformation U to the 2 qubits in the circuit. Draw the circuit.\n",
    "# Syntax: qc.unitary(U,[qubit_indices])\n"
   ]
  },
  {
   "cell_type": "code",
   "execution_count": null,
   "id": "02762b62-31c0-4baa-9cd5-16d544348730",
   "metadata": {},
   "outputs": [],
   "source": [
    "# Optional Block 3: Simulate this circuit using statevector simulator to get the final histogram. \n",
    "# What probabilities do you get for the different output states?\n"
   ]
  },
  {
   "cell_type": "code",
   "execution_count": null,
   "id": "c316b922-7661-48a0-8a94-d2e574a7c3e7",
   "metadata": {},
   "outputs": [],
   "source": [
    "# Optional Block 4: Run this block to transpile the circuit qc into a new circuit transpiled_qc. \n",
    "# This circuit achieves the same transformation using the gates Rx, Ry, and CX (specified by the basis_gates parameter in the transpile() function)\n",
    "# Draw the transpiled circuit\n",
    "\n",
    "transpiled_qc = transpile(qc,basis_gates = ['rx','ry','cx'])\n",
    "transpiled_qc.draw()"
   ]
  },
  {
   "cell_type": "code",
   "execution_count": null,
   "id": "16587837-c9dc-491b-b31a-6d999879a0ee",
   "metadata": {},
   "outputs": [],
   "source": [
    "# Optional Block 5: Simulate the transpiled circuit transpiled_qc using statevector simulator to get the final histogram. \n",
    "# Do you get the same probabilities for the output states as the original circuit qc?\n"
   ]
  }
 ],
 "metadata": {
  "kernelspec": {
   "display_name": "Qiskit v0.34.1 (ipykernel)",
   "language": "python",
   "name": "python3"
  },
  "language_info": {
   "codemirror_mode": {
    "name": "ipython",
    "version": 3
   },
   "file_extension": ".py",
   "mimetype": "text/x-python",
   "name": "python",
   "nbconvert_exporter": "python",
   "pygments_lexer": "ipython3",
   "version": "3.8.12"
  },
  "widgets": {
   "application/vnd.jupyter.widget-state+json": {
    "state": {},
    "version_major": 2,
    "version_minor": 0
   }
  }
 },
 "nbformat": 4,
 "nbformat_minor": 5
}
