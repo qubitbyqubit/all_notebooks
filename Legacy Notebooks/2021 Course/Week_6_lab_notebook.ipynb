{
 "cells": [
  {
   "cell_type": "markdown",
   "id": "d2497f68-e565-4dec-8d5e-ec337e37128e",
   "metadata": {},
   "source": [
    "<div style=\"text-align: center; margin: 50px\">\n",
    "\n",
    "<h1 style=\"text-align: center;\">Qubit by Qubit</h1>\n",
    "<h2 style=\"text-align: center;\">Introduction to Quantum Computing</h1>\n",
    "<h3>Week 6 - The QASM simulator on Qiskit</h3>\n",
    "<h3>Lab notebook</h3>\n",
    "\n",
    "</div>"
   ]
  },
  {
   "cell_type": "code",
   "execution_count": null,
   "id": "863aa459-349d-43be-b305-f1ca757b4858",
   "metadata": {},
   "outputs": [],
   "source": [
    "# Importing standard Qiskit libraries\n",
    "from qiskit import QuantumCircuit  #Importing the QuantumCircuit function from Qiskit. We will use this to create our quantum circuits!\n",
    "\n",
    "# We will use these functions to run our circuit and visualize its final state\n",
    "from qiskit import Aer, execute, IBMQ \n",
    "from qiskit.visualization import *\n",
    "\n",
    "import warnings  # We are using this library to suppress some warning messages\n",
    "warnings.filterwarnings(\"ignore\")\n",
    "\n",
    "provider = IBMQ.load_account()\n",
    "print(\"Libraries imported successfully!\")"
   ]
  },
  {
   "cell_type": "code",
   "execution_count": null,
   "id": "8960aede-1965-4905-92ba-4ee36f22855f",
   "metadata": {},
   "outputs": [],
   "source": [
    "# Block 1- Create a quantum circuit with 1 qubit and 1 classical bit. Add two X gates to your circuit."
   ]
  },
  {
   "cell_type": "code",
   "execution_count": null,
   "id": "7cde8cc7-c6a9-4ecd-adc6-7247efefd7c2",
   "metadata": {},
   "outputs": [],
   "source": [
    "# Block 2 - Add measurements to your circuit and draw your circuit."
   ]
  },
  {
   "cell_type": "code",
   "execution_count": null,
   "id": "1562af52-fc2e-4f05-b153-b4e8db58476f",
   "metadata": {},
   "outputs": [],
   "source": [
    "# Block 3 - Step 3.1 - Setting up and running the QASM simulator.\n",
    "backend = Aer.get_backend('qasm_simulator') # Choosing the simulator we want to use\n",
    "job = execute(qc, backend, shots = 1024) # Running the simulator - specifying the circuit we want to simulate and the number of times we want to simulate it (shots)\n",
    "result = job.result() # Getting the result from the simulator"
   ]
  },
  {
   "cell_type": "code",
   "execution_count": null,
   "id": "0265fd66-3c78-48c0-a8d2-c0349ef09407",
   "metadata": {},
   "outputs": [],
   "source": [
    "# Block 4 - Step 3.2 - Visualizing the results of the QASM simulator \n",
    "counts = result.get_counts() # Getting the counts of 0 and 1 from the result\n",
    "plot_histogram(counts) # Plotting the counts of 0 and 1"
   ]
  },
  {
   "cell_type": "code",
   "execution_count": null,
   "id": "63c31d83-6c40-481c-a319-dfba2c7b4849",
   "metadata": {},
   "outputs": [],
   "source": [
    "# Block 5 - Create a quantum circuit with 1 qubit and 1 classical bit. Add an X gate and an H gate to the circuit. Add a measurement to the circuit and draw it.\n"
   ]
  },
  {
   "cell_type": "code",
   "execution_count": null,
   "id": "2fef1ca4-8714-45ec-9b40-e61292dff9cc",
   "metadata": {},
   "outputs": [],
   "source": [
    "# Block 6 - Set up and run the circuit using the QASM simulator. You can copy the code from Block 3."
   ]
  },
  {
   "cell_type": "code",
   "execution_count": null,
   "id": "4a2e0a20-17b1-4ef2-a454-5a13b4976d41",
   "metadata": {},
   "outputs": [],
   "source": [
    "# Block 7 - Visualize the results of the circuit using the QASM simulator. You can copy the code from Block 4.\n"
   ]
  },
  {
   "cell_type": "code",
   "execution_count": null,
   "id": "ebbbe94f-f584-49b2-a94c-2d499870c45b",
   "metadata": {},
   "outputs": [],
   "source": [
    "# Block 8 - Create a quantum circuit with 1 qubit and 1 classical bit. Add two X gates to this circuit. Add a measurement to this circuit and draw it. "
   ]
  },
  {
   "cell_type": "code",
   "execution_count": null,
   "id": "8d94f68e-9c72-440d-8a5d-ba5e9d190f82",
   "metadata": {},
   "outputs": [],
   "source": [
    "# Block 9 - Run this block to send your circuit to be run on a real quantum computer!\n",
    "backend = provider.get_backend('ibmq_armonk') # This is the name of the real qc we will use\n",
    "job = execute(qc, backend, shots = 1024)\n",
    "result = job.result()\n",
    "counts = result.get_counts()\n",
    "plot_histogram(counts)"
   ]
  }
 ],
 "metadata": {
  "kernelspec": {
   "display_name": "Qiskit v0.31.0 (ipykernel)",
   "language": "python",
   "name": "python3"
  },
  "language_info": {
   "codemirror_mode": {
    "name": "ipython",
    "version": 3
   },
   "file_extension": ".py",
   "mimetype": "text/x-python",
   "name": "python",
   "nbconvert_exporter": "python",
   "pygments_lexer": "ipython3",
   "version": "3.8.10"
  },
  "widgets": {
   "application/vnd.jupyter.widget-state+json": {
    "state": {},
    "version_major": 2,
    "version_minor": 0
   }
  }
 },
 "nbformat": 4,
 "nbformat_minor": 5
}
