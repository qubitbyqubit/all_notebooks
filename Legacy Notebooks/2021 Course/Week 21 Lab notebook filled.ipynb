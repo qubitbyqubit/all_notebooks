{
 "cells": [
  {
   "cell_type": "markdown",
   "id": "9c44e420-8939-478c-8ff2-f332b990e473",
   "metadata": {},
   "source": [
    "<div style=\"text-align: center; margin: 50px\">\n",
    "\n",
    "<h1 style=\"text-align: center;\">Qubit by Qubit</h1>\n",
    "<h2 style=\"text-align: center;\">Introduction to Quantum Computing</h1>\n",
    "<h3>Week 22 - Benchmarking Quantum Circuits</h3>\n",
    "\n",
    "</div>"
   ]
  },
  {
   "cell_type": "code",
   "execution_count": 12,
   "id": "cdfa5565-badb-4fee-bc0e-091092d1ea16",
   "metadata": {},
   "outputs": [
    {
     "name": "stderr",
     "output_type": "stream",
     "text": [
      "ibmqfactory.load_account:WARNING:2022-03-10 22:01:36,597: Credentials are already in use. The existing account in the session will be replaced.\n"
     ]
    }
   ],
   "source": [
    "import numpy as np\n",
    "\n",
    "# Importing standard Qiskit libraries\n",
    "from qiskit import QuantumCircuit, transpile, execute, Aer, IBMQ\n",
    "from qiskit.tools.jupyter import *\n",
    "from qiskit.visualization import *\n",
    "from ibm_quantum_widgets import *\n",
    "from qiskit.providers.aer import QasmSimulator\n",
    "from qiskit.providers.aer.noise import NoiseModel\n",
    "import matplotlib.pyplot as plt\n",
    "\n",
    "# Loading your IBM Quantum account(s)\n",
    "provider = IBMQ.load_account()"
   ]
  },
  {
   "cell_type": "markdown",
   "id": "ee52d830-a43e-4ea3-aa38-c6828b1248d2",
   "metadata": {},
   "source": [
    "## Coding cheat sheet:\n",
    "\n",
    "`qc = QuantumCircuit(2)` # Define a 2 qubit quantum circuit <br>\n",
    "`qc = QuantumCircuit(2,2)` # Define a 2 qubit quantum circuit with 2 classical bit (Only for QASM simulator or real Quantum Computer) <br>\n",
    "\n",
    "`qc.x(0)` #Add an X gate <br>\n",
    "`qc.h(0)` #Add an H gate <br>\n",
    "`qc.z(0)` #Add a Z gate <br>\n",
    "\n",
    "`qc.measure([0,1],[0,1])` # Add measurement to circuit (Only for QASM simulator or real Quantum Computer) <br>\n",
    "\n",
    "`qc.draw()` # Draw the circuit <br>\n",
    "\n",
    "\n",
    "### Set up and run the statevector simulator:<br>\n",
    "\n",
    "`backend = Aer.get_backend('statevector_simulator')` # Tell it which simulator you want to use <br>\n",
    "`job = execute(qc,backend)` # Put in the name of your quantum circuit where it says qc<br>\n",
    "`result = job.result()` <br>\n",
    "\n",
    "### Set up and run the QASM simulator:<br>\n",
    "\n",
    "`backend = Aer.get_backend('qasm_simulator')` # Tell it which simulator you want to use <br>\n",
    "`job = execute(qc,backend, shots = 1024)` # Put in the name of your quantum circuit where it says qc, and the number of shots you want to use<br>\n",
    "`result = job.result()` <br>\n",
    "\n",
    "### Set up and run on a real quantum computer :<br>\n",
    "`from qiskit.providers.ibmq import least_busy` <br>\n",
    "`backend = least_busy(provider.backends(filters=lambda x: x.configuration().n_qubits >= 2 and` <br>\n",
    "                                        `not x.configuration().simulator and x.status().operational==True))` # Find the least busy QC <br>\n",
    "\n",
    "`job = execute(qc,backend, shots = 1024)` # Put in the name of your quantum circuit where it says qc, and the number of shots you want to use<br>\n",
    "`result = job.result()` <br>\n",
    "\n",
    "\n",
    "### See the output in vector form (only for Statevector simulator):<br>\n",
    "`state = result.get_statevector()` <br>\n",
    "`array_to_latex(state, prefix=\"\\\\text{Statevector} = \")` <br>\n",
    "\n",
    "### See the output in histogram form (for Statevector, QASM, or real quantum computer): <br>\n",
    "`counts = result.get_counts()` <br>\n",
    "`plot_histogram(counts)` <br>\n"
   ]
  },
  {
   "cell_type": "markdown",
   "id": "0461f704-b896-4ffd-afca-2cca6275c87e",
   "metadata": {
    "tags": []
   },
   "source": [
    "## Creating noise models"
   ]
  },
  {
   "cell_type": "markdown",
   "id": "c6252a9f-376f-4b57-9653-bc0066419b9f",
   "metadata": {},
   "source": [
    "Today, we are going to test how many errors we get when we run circuits on real quantum computers. To measure these errors, we will run circuits of different lengths on the quantum computers - just like the game of whispers, we expect the number of errors to go up as the length of our circuits increases. \n",
    "\n",
    "However, there's one problem - it takes a long time to run a single circuit on a real device! The queues on IBM's quantum computers are really long. If we actually tried to run each circuit on real devices, it would take us a really long time to get results.\n",
    "\n",
    "Fortunately, there is a workaround. IBM provides **noise models** that allow simulators to mimic the behavior of different QCs! These noise models are created after extensively testing each of the QCs and finding out the rate at which they produce errors. Each QC provided by IBM has its own noise model. We will be using these noise models today to quickly get results on errors from different QCs! "
   ]
  },
  {
   "cell_type": "markdown",
   "id": "fe1e433b-f4c7-4241-9a25-db69d05eb025",
   "metadata": {},
   "source": [
    "Let's create a noise model based on `ibmq_belem`. We will use this noise model in all our simulations to mimic the results we would have gotten on `ibmq_belem`.\n",
    "\n",
    "To create a noise model, we first specify which backend we want to create the model from, and then use Qiskit's `NoiseModel` function to create the noise model for that backend."
   ]
  },
  {
   "cell_type": "code",
   "execution_count": 13,
   "id": "52670de1-b705-46b5-91f1-dca51c440146",
   "metadata": {},
   "outputs": [],
   "source": [
    "backend_belem = provider.get_backend('ibmq_belem')   # Specifying which backend to use\n",
    "noise_model_belem = NoiseModel.from_backend(backend_belem)  # Creating a noise model from this backend."
   ]
  },
  {
   "cell_type": "markdown",
   "id": "309f4ece-2406-41a3-bf2d-02cc2d4d768a",
   "metadata": {},
   "source": [
    "We will use this noise model when we simulate our circuits. "
   ]
  },
  {
   "cell_type": "markdown",
   "id": "05768e69-19d1-4b1c-8863-6e48d8352489",
   "metadata": {},
   "source": [
    "## Errors in single qubit circuits"
   ]
  },
  {
   "cell_type": "markdown",
   "id": "e3584a31-5358-4828-ab8e-b158c0205ec4",
   "metadata": {},
   "source": [
    "We are now ready to create benchmarking circuits to measure noise in our QC! \n",
    "\n",
    "Remember that our goal is to create circuits of different lengths whose final state is |0> for every qubit in the circuit. Any deviation from this final state is an error, and we can measure the rate of errors for circuits of different lengths."
   ]
  },
  {
   "cell_type": "markdown",
   "id": "68530028-5161-4e59-acc5-73b61367b47f",
   "metadata": {},
   "source": [
    "Let's start off small - we'll create a single qubit circuit whose final state is |0>. Our circuit will have two X gates - the first puts the qubit in the |1> state, and the second puts it back in the |0> state.\n",
    "\n",
    "Further, as we discussed earlier, we will be placing barriers between each gate, so that we can visually distinguish different parts of our circuit. These barriers do not change anything about the circuit - they are just visual aids."
   ]
  },
  {
   "cell_type": "code",
   "execution_count": 14,
   "id": "20223306-ff46-41c6-8cf2-c93108cb9b89",
   "metadata": {},
   "outputs": [
    {
     "data": {
      "image/png": "[encoded data removed]",
      "text/plain": [
       "<Figure size 374.326x144.48 with 1 Axes>"
      ]
     },
     "execution_count": 14,
     "metadata": {},
     "output_type": "execute_result"
    }
   ],
   "source": [
    "# Block 1 - This block creates a quantum circuit with 1 qubit, and adds two X gates to the circuit.\n",
    "# There is a barrier between the two gates\n",
    "qc = QuantumCircuit(1,1)\n",
    "qc.x(0)   # First X gate\n",
    "qc.barrier() # Barrier\n",
    "qc.x(0) # Second X gate\n",
    "qc.barrier() # Barrier\n",
    "\n",
    "qc.measure(0,0)\n",
    "qc.draw()"
   ]
  },
  {
   "cell_type": "markdown",
   "id": "7661e97f-7859-435b-b0ef-ebfee67e2b8f",
   "metadata": {},
   "source": [
    "Your turn! Can you think of a different single qubit circuit that produces |0> at the end? You can use as many gates as you want (use atleast two!). Also remember to place barriers between each gate in your circuit"
   ]
  },
  {
   "cell_type": "code",
   "execution_count": 27,
   "id": "d8cf77c1-d5be-4f45-ac2c-6ff852e5e2c8",
   "metadata": {},
   "outputs": [
    {
     "data": {
      "image/png": "[encoded data removed]",
      "text/plain": [
       "<Figure size 374.326x144.48 with 1 Axes>"
      ]
     },
     "execution_count": 27,
     "metadata": {},
     "output_type": "execute_result"
    }
   ],
   "source": [
    "# Block 2 - Create a quantum circuit with 1 qubit and 1 classical bit that would produce |0> as its final state\n",
    "# Remember to add a barrier between each gate in your circuit.\n",
    "# At the end of your circuit, add a measurement.\n",
    "qc = QuantumCircuit(1,1)\n",
    "qc.h(0)   # First X gate\n",
    "qc.barrier() # Barrier\n",
    "qc.h(0) # Second X gate\n",
    "qc.barrier() # Barrier\n",
    "\n",
    "qc.measure(0,0)\n",
    "qc.draw()"
   ]
  },
  {
   "cell_type": "markdown",
   "id": "4929b371-f8ca-4c16-90c8-f0742441abec",
   "metadata": {},
   "source": [
    "Let's run your circuit! The code below uses the noise model we had created to simulate the circuit using the QASM simulator.\n",
    "\n",
    "Add code to display the result as a histogram - how many errors did you get?"
   ]
  },
  {
   "cell_type": "code",
   "execution_count": 28,
   "id": "a0ded74a-e1ad-466e-a52d-ce6cdc6bf13f",
   "metadata": {},
   "outputs": [
    {
     "data": {
      "image/png": "[encoded data removed]",
      "text/plain": [
       "<Figure size 504x360 with 1 Axes>"
      ]
     },
     "execution_count": 28,
     "metadata": {},
     "output_type": "execute_result"
    }
   ],
   "source": [
    "# Block 3 - Simulating your circuit using the belem noise model\n",
    "# YOU NEED TO ADD CODE IN THIS BLOCK\n",
    "backend = Aer.get_backend('qasm_simulator')\n",
    "job = execute(qc, backend, noise_model=noise_model_belem, shots = 1024)\n",
    "result = job.result()# Fill in code to get results\n",
    "counts = result.get_counts()#Fill in code to get counts from results\n",
    "\n",
    "# Add code here to display the counts as a histogram\n",
    "plot_histogram(counts)"
   ]
  },
  {
   "cell_type": "markdown",
   "id": "d770ca1b-7887-4b57-a28b-b231e99c71fe",
   "metadata": {},
   "source": [
    "So, you can see that we got a few errors with your simple, 1-qubit circuit. Next, we will explore how these errors scale as you increase the number of qubits and the size of your circuit."
   ]
  },
  {
   "cell_type": "markdown",
   "id": "62820583-af8d-4012-bd2b-534c054dc626",
   "metadata": {
    "tags": []
   },
   "source": [
    "## Errors in 2-qubit circuits"
   ]
  },
  {
   "cell_type": "markdown",
   "id": "031d5b97-f53e-440e-b489-81a9c587ec5c",
   "metadata": {},
   "source": [
    "Let's try to do the same thing, but with 2 qubits. Can you create a 2 qubit circuit whose final state is |00>? Extra points for creativity - feel free to use H gates, X gates, Z gates, CX gates, Rx gates...."
   ]
  },
  {
   "cell_type": "code",
   "execution_count": 31,
   "id": "cb178b75-100f-488f-a23d-1a70362427fc",
   "metadata": {},
   "outputs": [
    {
     "data": {
      "image/png": "[encoded data removed]",
      "text/plain": [
       "<Figure size 688.452x204.68 with 1 Axes>"
      ]
     },
     "execution_count": 31,
     "metadata": {},
     "output_type": "execute_result"
    }
   ],
   "source": [
    "# Block 4 - Create a 2-qubit circuit whose final state is |00>, i.e., both qubits are in the |0> state at the end\n",
    "qc = QuantumCircuit(2,2)\n",
    "qc.x(0)\n",
    "qc.barrier()\n",
    "qc.cx(0,1)\n",
    "qc.barrier()\n",
    "qc.cx(0,1)\n",
    "qc.barrier()\n",
    "qc.x(0)\n",
    "qc.barrier()\n",
    "qc.measure([0,1],[0,1])\n",
    "qc.draw()"
   ]
  },
  {
   "cell_type": "code",
   "execution_count": 32,
   "id": "c604d1ae-0c34-4ed3-8452-9dfdd3aef372",
   "metadata": {},
   "outputs": [
    {
     "data": {
      "image/png": "[encoded data removed]",
      "text/plain": [
       "<Figure size 504x360 with 1 Axes>"
      ]
     },
     "execution_count": 32,
     "metadata": {},
     "output_type": "execute_result"
    }
   ],
   "source": [
    "# Block 5 - Simulate your circuit using the belem noise model.\n",
    "# How many errors do you get? Is it more or less than the single qubit circuit?\n",
    "backend = Aer.get_backend('qasm_simulator')\n",
    "job = execute(qc, backend, noise_model=noise_model_belem, shots = 1024)\n",
    "result = job.result()# Fill in code to get results\n",
    "counts = result.get_counts()#Fill in code to get counts from results\n",
    "\n",
    "# Add code here to display the counts as a histogram\n",
    "plot_histogram(counts)"
   ]
  },
  {
   "cell_type": "markdown",
   "id": "bf36de94-45e6-4e22-b1c1-eef093c1141e",
   "metadata": {},
   "source": [
    "### Discussion: You will notice that you get more errors with two qubits than with 1 qubit. Why do you think this is?"
   ]
  },
  {
   "cell_type": "markdown",
   "id": "e2f49ec6-e98b-4d87-8704-8e58d31c56b2",
   "metadata": {
    "tags": []
   },
   "source": [
    "## Creating benchmarking circuits"
   ]
  },
  {
   "cell_type": "markdown",
   "id": "a6f45e4f-2156-41d2-99a4-90d1c26ef12e",
   "metadata": {},
   "source": [
    "We are now ready to create benchmarking circuits of different lengths and test how the errors scale with different lengths of the circuit. To do this, you will use the same 2-qubit circuit you had come up with in the previous blocks, and **repeat** it several times. The more times you repeat, the longer the circuit, and the more errors you will see!"
   ]
  },
  {
   "cell_type": "markdown",
   "id": "e1a07538-dfd4-4436-8bff-48d52eac62fb",
   "metadata": {},
   "source": [
    "### How can we easily repeat the same gates?\n",
    "\n",
    "Which programming tool would you use to easily repeat the same code multiple times?"
   ]
  },
  {
   "cell_type": "code",
   "execution_count": 8,
   "id": "cefb729e-3782-4bc0-96c0-74e66e3768a9",
   "metadata": {},
   "outputs": [
    {
     "data": {
      "image/png": "[encoded data removed]",
      "text/plain": [
       "<Figure size 1170.05x204.68 with 1 Axes>"
      ]
     },
     "execution_count": 8,
     "metadata": {},
     "output_type": "execute_result"
    }
   ],
   "source": [
    "# Block 6 - Using the same gates as you had in block 4, create circuits of different lengths\n",
    "# You should use between 1 and 20 repetitions of your circuit\n",
    "# Remember to add barriers between each gate!\n",
    "# Add measurements to your circuit at the end\n",
    "# How many errors do you get? How do these errors change with the size of your circuit?\n",
    "qc = QuantumCircuit(2,2)\n",
    "for i in range(2):\n",
    "    qc.x(0)\n",
    "    qc.barrier()\n",
    "    qc.cx(0,1)\n",
    "    qc.barrier()\n",
    "    qc.cx(0,1)\n",
    "    qc.barrier()\n",
    "    qc.x(0)\n",
    "    qc.barrier()\n",
    "qc.measure(0,0)\n",
    "qc.measure(1,1)\n",
    "qc.draw()"
   ]
  },
  {
   "cell_type": "code",
   "execution_count": 41,
   "id": "31bb731b-14c9-4f2c-b7bc-110823735335",
   "metadata": {},
   "outputs": [
    {
     "name": "stdout",
     "output_type": "stream",
     "text": [
      "{'01': 354, '10': 146, '00': 375, '11': 149}\n"
     ]
    }
   ],
   "source": [
    "# Block 7 - Simulate your circuit using the belem noise model. \n",
    "# How many errors do you get? How do these errors change with the size of your circuit?\n",
    "\n",
    "backend = Aer.get_backend('qasm_simulator')\n",
    "job_belem = execute(qc, backend, noise_model=noise_model_belem, shots = 1024)\n",
    "result_belem = job_belem.result()# Fill in code to get results\n",
    "counts_belem = result_belem.get_counts()#Fill in code to get counts from results\n",
    "print(counts_belem)"
   ]
  },
  {
   "cell_type": "markdown",
   "id": "aaf5b351-b474-4b30-9373-00c76e48c7d2",
   "metadata": {},
   "source": [
    "### Test out how many errors you get for different numbers of repetitions of your circuit."
   ]
  },
  {
   "cell_type": "markdown",
   "id": "b6a415c6-c5db-4bad-ae2b-3445eb6c33e3",
   "metadata": {},
   "source": [
    "## Creating a plot of how errors scale with circuit length"
   ]
  },
  {
   "cell_type": "markdown",
   "id": "1c4e8728-ab5d-45eb-8291-dca4e26e6e16",
   "metadata": {},
   "source": [
    "Let's end our lab by visualizing the scaling of errors with circuit length. \n",
    "\n",
    "The code below creates a plot of the fraction of errors versus the number of repetitions of your circuit. You have to put in your simple 2-qubit circuit, and the code will automatically generate different numbers of repetitions and calculate errors."
   ]
  },
  {
   "cell_type": "code",
   "execution_count": 26,
   "id": "73713956-9743-462b-a2a4-2560bc3371a2",
   "metadata": {},
   "outputs": [
    {
     "name": "stdout",
     "output_type": "stream",
     "text": [
      "Completed running circuit 1 out of 13\n",
      "Completed running circuit 2 out of 13\n",
      "Completed running circuit 3 out of 13\n",
      "Completed running circuit 4 out of 13\n",
      "Completed running circuit 5 out of 13\n",
      "Completed running circuit 6 out of 13\n",
      "Completed running circuit 7 out of 13\n",
      "Completed running circuit 8 out of 13\n",
      "Completed running circuit 9 out of 13\n",
      "Completed running circuit 10 out of 13\n",
      "Completed running circuit 11 out of 13\n",
      "Completed running circuit 12 out of 13\n",
      "Completed running circuit 13 out of 13\n"
     ]
    },
    {
     "data": {
      "text/plain": [
       "Text(0, 0.5, 'probability of getting the right answer')"
      ]
     },
     "execution_count": 26,
     "metadata": {},
     "output_type": "execute_result"
    },
    {
     "data": {
      "image/png": "[encoded data removed]",
      "text/plain": [
       "<Figure size 432x288 with 1 Axes>"
      ]
     },
     "metadata": {
      "needs_background": "light"
     },
     "output_type": "display_data"
    }
   ],
   "source": [
    "# Block 8 - Creating a plot of the number of errors for differnet circuit lengths. \n",
    "# YOU NEED TO ADD CODE FOR THIS BLOCK TO WORK!\n",
    "\n",
    "circuit_lengths = [1,3,5,7,9,11,13,15,17,19,21,23,25]\n",
    "correct_results =[]\n",
    "ctr = 0\n",
    "for i in circuit_lengths:\n",
    "    ctr = ctr+1\n",
    "    qc = QuantumCircuit(2,2)\n",
    "    for j in range(i):\n",
    "        #Add your circuit from the Block 6 here! Make sure you get the indentation right\n",
    "        qc.x(0)\n",
    "        qc.barrier()\n",
    "        qc.cx(0,1)\n",
    "        qc.barrier()\n",
    "        qc.cx(0,1)\n",
    "        qc.barrier()\n",
    "        qc.x(0)\n",
    "        qc.barrier()\n",
    "        qc.measure(0,0)\n",
    "        qc.measure(1,1)\n",
    "    backend = Aer.get_backend('qasm_simulator')\n",
    "    job = execute(qc, backend, noise_model=noise_model_belem, shots = 1024)\n",
    "    result = job.result()# Fill in code to get results\n",
    "    counts = result.get_counts()#Fill in code to get counts from results\n",
    "    correct_results.append(counts[\"00\"])\n",
    "    print(\"Completed running circuit \" + str(ctr) + \" out of \" + str(len(circuit_lengths)))\n",
    "\n",
    "plt.plot(circuit_lengths,correct_results,marker = 's')\n",
    "plt.xlabel('number of repetitions')\n",
    "plt.ylabel('probability of getting the right answer')"
   ]
  },
  {
   "cell_type": "markdown",
   "id": "e46657c8-9d71-4ffb-a9e9-d9f311888e2b",
   "metadata": {},
   "source": [
    "As you can see, errors increase with length of circuit! Until how many repetitions would you consider the results of this circuit \"fairly accurate\"?\n",
    "\n",
    "Metrics such as these are really important in engineering quantum computers! The maximum length of circuit that can be reliably computed is really important - the longer the circuit can be, the more sophisticated computations we can do with it!"
   ]
  },
  {
   "cell_type": "markdown",
   "id": "6a46681f-1c8b-4698-90a1-6ecdb6793b9e",
   "metadata": {},
   "source": [
    "# Optional content - Comparing two quantum computers"
   ]
  },
  {
   "cell_type": "markdown",
   "id": "49d89998-1c39-43ea-9c28-f6454a1a9412",
   "metadata": {},
   "source": [
    "We can use benchmarking to compare two different quantum computers, and check with of them produces fewer errors for different circuit lengths!\n",
    "\n",
    "First, let's create a second noise model - we will use `ibmq_quito`."
   ]
  },
  {
   "cell_type": "code",
   "execution_count": 36,
   "id": "2f9ce1bb-a14e-431b-819b-d4e27af4a36b",
   "metadata": {},
   "outputs": [],
   "source": [
    "# Optional block 1 - Creating a second noise model\n",
    "backend_quito = provider.get_backend('ibmq_quito')   # Specifying which backend to use\n",
    "noise_model_quito = NoiseModel.from_backend(backend_quito)  # Creating a noise model from this backend."
   ]
  },
  {
   "cell_type": "markdown",
   "id": "1d75818a-39c3-46d7-a862-8c4c681571c9",
   "metadata": {},
   "source": [
    "Next, we will test out your simple 2-qubit circuit on both noise models, and see which one produces more errors."
   ]
  },
  {
   "cell_type": "code",
   "execution_count": 33,
   "id": "1b95bb8c-ac12-4919-b89f-d1b62ca36d0f",
   "metadata": {},
   "outputs": [
    {
     "data": {
      "image/png": "[encoded data removed]",
      "text/plain": [
       "<Figure size 688.452x204.68 with 1 Axes>"
      ]
     },
     "execution_count": 33,
     "metadata": {},
     "output_type": "execute_result"
    }
   ],
   "source": [
    "# Optional Block 2 - Create a 2-qubit circuit that will produce the final state |00>. \n",
    "# You can use the same simple circuit you had used before.\n",
    "# Do not add any repetitions here - we will test those out later.\n",
    "qc = QuantumCircuit(2,2)\n",
    "qc.x(0)\n",
    "qc.barrier()\n",
    "qc.cx(0,1)\n",
    "qc.barrier()\n",
    "qc.cx(0,1)\n",
    "qc.barrier()\n",
    "qc.x(0)\n",
    "qc.barrier()\n",
    "qc.measure([0,1],[0,1])\n",
    "qc.draw()"
   ]
  },
  {
   "cell_type": "code",
   "execution_count": 38,
   "id": "185ab3a3-1dd6-483b-ac96-ddd22de45001",
   "metadata": {},
   "outputs": [
    {
     "name": "stdout",
     "output_type": "stream",
     "text": [
      "{'11': 3, '10': 31, '00': 967, '01': 23}\n"
     ]
    }
   ],
   "source": [
    "# Optional Block 3 - Simulate your circuit using the belem noise model.\n",
    "# How many errors do you get?\n",
    "backend = Aer.get_backend('qasm_simulator')\n",
    "job_belem = execute(qc, backend, noise_model=noise_model_belem, shots = 1024)\n",
    "result_belem = job_belem.result()# Fill in code to get results\n",
    "counts_belem = result_belem.get_counts()#Fill in code to get counts from results\n",
    "print(counts_belem)"
   ]
  },
  {
   "cell_type": "code",
   "execution_count": 39,
   "id": "50ed067c-8122-4180-9095-c5b4e1840c41",
   "metadata": {},
   "outputs": [
    {
     "name": "stdout",
     "output_type": "stream",
     "text": [
      "{'11': 2, '01': 28, '10': 13, '00': 981}\n"
     ]
    }
   ],
   "source": [
    "# Optional Block 4 - Simulate your circuit using the quito noise model.\n",
    "# How many errors do you get? Is it more or less than belem?\n",
    "backend = Aer.get_backend('qasm_simulator')\n",
    "job_quito = execute(qc, backend, noise_model=noise_model_quito, shots = 1024)\n",
    "result_quito = job_quito.result()# Fill in code to get results\n",
    "counts_quito = result_quito.get_counts()#Fill in code to get counts from results\n",
    "print(counts_quito)"
   ]
  },
  {
   "cell_type": "markdown",
   "id": "d696f735-e3d3-4de9-80b1-7db998f142e5",
   "metadata": {},
   "source": [
    "Let's study how the errors scale with the size of the circuit for both noise models! In the block below, create a 2 qubit circuit named qc and add the same gates to it as in optional block 2. The block will measure errors for differnet numbers of repetitions and plot them."
   ]
  },
  {
   "cell_type": "code",
   "execution_count": 45,
   "id": "cfb3a7ae-6df3-4b4a-9998-0ac08eaeac03",
   "metadata": {},
   "outputs": [
    {
     "name": "stdout",
     "output_type": "stream",
     "text": [
      "Completed running circuit 1 out of 13\n",
      "Completed running circuit 2 out of 13\n",
      "Completed running circuit 3 out of 13\n",
      "Completed running circuit 4 out of 13\n",
      "Completed running circuit 5 out of 13\n",
      "Completed running circuit 6 out of 13\n",
      "Completed running circuit 7 out of 13\n",
      "Completed running circuit 8 out of 13\n",
      "Completed running circuit 9 out of 13\n",
      "Completed running circuit 10 out of 13\n",
      "Completed running circuit 11 out of 13\n",
      "Completed running circuit 12 out of 13\n",
      "Completed running circuit 13 out of 13\n"
     ]
    },
    {
     "data": {
      "text/plain": [
       "Text(0, 0.5, 'probability of getting the right answer')"
      ]
     },
     "execution_count": 45,
     "metadata": {},
     "output_type": "execute_result"
    },
    {
     "data": {
      "image/png": "[encoded data removed]",
      "text/plain": [
       "<Figure size 432x288 with 1 Axes>"
      ]
     },
     "metadata": {
      "needs_background": "light"
     },
     "output_type": "display_data"
    }
   ],
   "source": [
    "# Optional Block 5 - Measuring errors for lima and belem!\n",
    "# Create a 2-qubit quantum circuit and add the same gates to it as in Optinal Block 2.\n",
    "# Run the block to produce a plot of the errors produced by lima and belem\n",
    "circuit_lengths = [1,3,5,7,9,11,13,15,17,19,21,23,25]\n",
    "correct_results_belem =[]\n",
    "correct_results_quito =[]\n",
    "ctr = 0\n",
    "for i in circuit_lengths:\n",
    "    ctr = ctr+1\n",
    "    qc = QuantumCircuit(2,2)\n",
    "    for j in range(i):\n",
    "        #Add your circuit from the Block 6 here! Make sure you get the indentation right\n",
    "        qc.x(0)\n",
    "        qc.barrier()\n",
    "        qc.cx(0,1)\n",
    "        qc.barrier()\n",
    "        qc.cx(0,1)\n",
    "        qc.barrier()\n",
    "        qc.x(0)\n",
    "        qc.barrier()\n",
    "    qc.measure(0,0)\n",
    "    qc.measure(1,1)\n",
    "    backend = Aer.get_backend('qasm_simulator')\n",
    "    job_belem = execute(qc, backend, noise_model=noise_model_belem, shots = 1024)\n",
    "    result_belem = job_belem.result()# Fill in code to get results\n",
    "    counts_belem = result_belem.get_counts()#Fill in code to get counts from results\n",
    "    correct_results_belem.append(counts_belem[\"00\"])\n",
    "    job_quito = execute(qc, backend, noise_model=noise_model_quito, shots = 1024)\n",
    "    result_quito = job_quito.result()# Fill in code to get results\n",
    "    counts_quito = result_quito.get_counts()#Fill in code to get counts from results\n",
    "    correct_results_quito.append(counts_quito[\"00\"])\n",
    "    print(\"Completed running circuit \" + str(ctr) + \" out of \" + str(len(circuit_lengths)))\n",
    "\n",
    "plt.plot(circuit_lengths,correct_results_belem,marker = 's')\n",
    "plt.plot(circuit_lengths,correct_results_quito,marker = 'o')\n",
    "plt.legend(['imbq_belem','imbq_quito'])\n",
    "plt.xlabel('number of repetitions')\n",
    "plt.ylabel('probability of getting the right answer')"
   ]
  },
  {
   "cell_type": "markdown",
   "id": "5d9137f8-5473-40cb-b0fd-f1099d928344",
   "metadata": {},
   "source": [
    "### Which QC produced fewer errors? Which one do you think is more reliable? Does this match with your analysis of the error rates from earlier in the lab?"
   ]
  },
  {
   "cell_type": "code",
   "execution_count": null,
   "id": "3f5e201e-be84-4434-ab7e-44b4e13be986",
   "metadata": {},
   "outputs": [],
   "source": []
  }
 ],
 "metadata": {
  "kernelspec": {
   "display_name": "Python 3 (ipykernel)",
   "language": "python",
   "name": "python3"
  },
  "language_info": {
   "codemirror_mode": {
    "name": "ipython",
    "version": 3
   },
   "file_extension": ".py",
   "mimetype": "text/x-python",
   "name": "python",
   "nbconvert_exporter": "python",
   "pygments_lexer": "ipython3",
   "version": "3.9.5"
  },
  "widgets": {
   "application/vnd.jupyter.widget-state+json": {
    "state": {
     "0e5176dce69e426b8752b696685d9b2f": {
      "model_module": "@jupyter-widgets/controls",
      "model_module_version": "1.5.0",
      "model_name": "HTMLModel",
      "state": {
       "layout": "IPY_MODEL_fe3e4089f69d470a8f6e15b5cc7ba0b9",
       "style": "IPY_MODEL_5464ea7cc095415d9d391ae89c081813",
       "value": "<h5>Message</h5>"
      }
     },
     "18f5fb67211e453194e58de809f2ae62": {
      "model_module": "@jupyter-widgets/base",
      "model_module_version": "1.2.0",
      "model_name": "LayoutModel",
      "state": {
       "width": "190px"
      }
     },
     "2997073f81424897b467594073616f31": {
      "model_module": "@jupyter-widgets/controls",
      "model_module_version": "1.5.0",
      "model_name": "HTMLModel",
      "state": {
       "layout": "IPY_MODEL_f57bae05c0964d6b9c82021559299ad5",
       "style": "IPY_MODEL_b30abe2849974914b0b4119c090e1708",
       "value": "<h5>Backend</h5>"
      }
     },
     "2f2237d86f2c4df3b596a0c47057bc6c": {
      "model_module": "@jupyter-widgets/base",
      "model_module_version": "1.2.0",
      "model_name": "LayoutModel",
      "state": {
       "width": "95px"
      }
     },
     "319c51154bdc4ec090c06e5a1ce25331": {
      "model_module": "@jupyter-widgets/controls",
      "model_module_version": "1.5.0",
      "model_name": "ButtonModel",
      "state": {
       "button_style": "primary",
       "description": "Clear",
       "layout": "IPY_MODEL_5419c538bb70482ab9a8d139a75bc915",
       "style": "IPY_MODEL_f0b3c0ef4d75447eb6354e91f106c89e"
      }
     },
     "451395c62c1246deb58a6a06c7a94fe0": {
      "model_module": "@jupyter-widgets/base",
      "model_module_version": "1.2.0",
      "model_name": "LayoutModel",
      "state": {
       "margin": "0px 0px 0px 37px",
       "width": "600px"
      }
     },
     "5419c538bb70482ab9a8d139a75bc915": {
      "model_module": "@jupyter-widgets/base",
      "model_module_version": "1.2.0",
      "model_name": "LayoutModel",
      "state": {
       "grid_area": "right",
       "padding": "0px 0px 0px 0px",
       "width": "70px"
      }
     },
     "5464ea7cc095415d9d391ae89c081813": {
      "model_module": "@jupyter-widgets/controls",
      "model_module_version": "1.5.0",
      "model_name": "DescriptionStyleModel",
      "state": {
       "description_width": ""
      }
     },
     "5aace6d0beaf44a49a4fcd0efb3c327b": {
      "model_module": "@jupyter-widgets/controls",
      "model_module_version": "1.5.0",
      "model_name": "HTMLModel",
      "state": {
       "layout": "IPY_MODEL_18f5fb67211e453194e58de809f2ae62",
       "style": "IPY_MODEL_9aa94a98328b4bafb7c8e3cceb6ffa0f",
       "value": "<h5>Job ID</h5>"
      }
     },
     "5d73e68fa4044873bdef0e5a749e2071": {
      "model_module": "@jupyter-widgets/controls",
      "model_module_version": "1.5.0",
      "model_name": "DescriptionStyleModel",
      "state": {
       "description_width": ""
      }
     },
     "5f47212dae9546a1b0d2ce293bd64997": {
      "model_module": "@jupyter-widgets/controls",
      "model_module_version": "1.5.0",
      "model_name": "HBoxModel",
      "state": {
       "children": [
        "IPY_MODEL_5aace6d0beaf44a49a4fcd0efb3c327b",
        "IPY_MODEL_2997073f81424897b467594073616f31",
        "IPY_MODEL_bcdb52d1d4b24c6d9dc62c6184e68c45",
        "IPY_MODEL_ce8526b6e6e048c7aa67dde8bc2fcc64",
        "IPY_MODEL_0e5176dce69e426b8752b696685d9b2f"
       ],
       "layout": "IPY_MODEL_451395c62c1246deb58a6a06c7a94fe0"
      }
     },
     "5fb69a225a4c48d3bb08814789525ccc": {
      "model_module": "@jupyter-widgets/controls",
      "model_module_version": "1.5.0",
      "model_name": "DescriptionStyleModel",
      "state": {
       "description_width": ""
      }
     },
     "6b50d5ca7f474eb8aed6974155a140ba": {
      "model_module": "@jupyter-widgets/controls",
      "model_module_version": "1.5.0",
      "model_name": "DescriptionStyleModel",
      "state": {
       "description_width": ""
      }
     },
     "7ce759c0156e4db2b7260474eca94bf7": {
      "model_module": "@jupyter-widgets/base",
      "model_module_version": "1.2.0",
      "model_name": "LayoutModel",
      "state": {
       "width": "70px"
      }
     },
     "9aa94a98328b4bafb7c8e3cceb6ffa0f": {
      "model_module": "@jupyter-widgets/controls",
      "model_module_version": "1.5.0",
      "model_name": "DescriptionStyleModel",
      "state": {
       "description_width": ""
      }
     },
     "a83b06f11a7a4a98a3d451e8c8c1e168": {
      "model_module": "@jupyter-widgets/base",
      "model_module_version": "1.2.0",
      "model_name": "LayoutModel",
      "state": {
       "margin": "0px 0px 10px 0px"
      }
     },
     "b06eb99bc1214048b67deedccac420de": {
      "model_module": "@jupyter-widgets/base",
      "model_module_version": "1.2.0",
      "model_name": "LayoutModel",
      "state": {
       "grid_template_areas": "\n                                       \". . . . right \"\n                                        ",
       "grid_template_columns": "20% 20% 20% 20% 20%",
       "width": "100%"
      }
     },
     "b30abe2849974914b0b4119c090e1708": {
      "model_module": "@jupyter-widgets/controls",
      "model_module_version": "1.5.0",
      "model_name": "DescriptionStyleModel",
      "state": {
       "description_width": ""
      }
     },
     "bcdb52d1d4b24c6d9dc62c6184e68c45": {
      "model_module": "@jupyter-widgets/controls",
      "model_module_version": "1.5.0",
      "model_name": "HTMLModel",
      "state": {
       "layout": "IPY_MODEL_2f2237d86f2c4df3b596a0c47057bc6c",
       "style": "IPY_MODEL_5fb69a225a4c48d3bb08814789525ccc",
       "value": "<h5>Status</h5>"
      }
     },
     "bf3b5934cff84e06aaa89b6253586474": {
      "model_module": "@jupyter-widgets/controls",
      "model_module_version": "1.5.0",
      "model_name": "HTMLModel",
      "state": {
       "layout": "IPY_MODEL_a83b06f11a7a4a98a3d451e8c8c1e168",
       "style": "IPY_MODEL_6b50d5ca7f474eb8aed6974155a140ba",
       "value": "<p style='font-family: IBM Plex Sans, Arial, Helvetica, sans-serif; font-size: 20px; font-weight: medium;'>Circuit Properties</p>"
      }
     },
     "ce8526b6e6e048c7aa67dde8bc2fcc64": {
      "model_module": "@jupyter-widgets/controls",
      "model_module_version": "1.5.0",
      "model_name": "HTMLModel",
      "state": {
       "layout": "IPY_MODEL_7ce759c0156e4db2b7260474eca94bf7",
       "style": "IPY_MODEL_5d73e68fa4044873bdef0e5a749e2071",
       "value": "<h5>Queue</h5>"
      }
     },
     "f0b3c0ef4d75447eb6354e91f106c89e": {
      "model_module": "@jupyter-widgets/controls",
      "model_module_version": "1.5.0",
      "model_name": "ButtonStyleModel",
      "state": {}
     },
     "f57bae05c0964d6b9c82021559299ad5": {
      "model_module": "@jupyter-widgets/base",
      "model_module_version": "1.2.0",
      "model_name": "LayoutModel",
      "state": {
       "width": "145px"
      }
     },
     "fb6c0528b15b46f5b0969b91bc197612": {
      "model_module": "@jupyter-widgets/controls",
      "model_module_version": "1.5.0",
      "model_name": "GridBoxModel",
      "state": {
       "children": [
        "IPY_MODEL_319c51154bdc4ec090c06e5a1ce25331"
       ],
       "layout": "IPY_MODEL_b06eb99bc1214048b67deedccac420de"
      }
     },
     "fe3e4089f69d470a8f6e15b5cc7ba0b9": {
      "model_module": "@jupyter-widgets/base",
      "model_module_version": "1.2.0",
      "model_name": "LayoutModel",
      "state": {}
     }
    },
    "version_major": 2,
    "version_minor": 0
   }
  }
 },
 "nbformat": 4,
 "nbformat_minor": 5
}
