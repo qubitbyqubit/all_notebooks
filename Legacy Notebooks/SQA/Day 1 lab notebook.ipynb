{
 "cells": [
  {
   "cell_type": "markdown",
   "id": "2dyyf8qCbF7Y",
   "metadata": {
    "id": "2dyyf8qCbF7Y"
   },
   "source": [
    "# Introduction to Quantum Computing Summer Program\n",
    "## Day 1 - Introduction to Python"
   ]
  },
  {
   "cell_type": "code",
   "execution_count": null,
   "id": "b2ddea95-0539-43d6-b753-15623aa1e5fc",
   "metadata": {
    "id": "b2ddea95-0539-43d6-b753-15623aa1e5fc"
   },
   "outputs": [],
   "source": [
    "# Block 1 - Copy the code from the slide into this block and run it. Do you get the right output?"
   ]
  },
  {
   "cell_type": "code",
   "execution_count": null,
   "id": "df983920-56f0-40d2-aa0d-60e45e1b72a8",
   "metadata": {
    "id": "df983920-56f0-40d2-aa0d-60e45e1b72a8"
   },
   "outputs": [],
   "source": [
    "# Block 2: Try printing your name! Print “_____, welcome to quantum class” where the blank is your name."
   ]
  },
  {
   "cell_type": "code",
   "execution_count": null,
   "id": "fc92ef6f-bd5d-4281-85a3-d214dff232da",
   "metadata": {
    "id": "fc92ef6f-bd5d-4281-85a3-d214dff232da"
   },
   "outputs": [],
   "source": [
    "# Block 3: Write down two print statements. Which print statement do you think gets executed first?"
   ]
  },
  {
   "cell_type": "code",
   "execution_count": null,
   "id": "5c68d14b-1e41-45f6-996f-a610b0ddb407",
   "metadata": {
    "id": "5c68d14b-1e41-45f6-996f-a610b0ddb407"
   },
   "outputs": [],
   "source": [
    "# Block 4: Create a variable named cost_notebooks on your replit, and give it a value equal to 50. Run the code."
   ]
  },
  {
   "cell_type": "code",
   "execution_count": null,
   "id": "d4e8bdad-9971-48b7-83a0-626deadeb6cb",
   "metadata": {
    "id": "d4e8bdad-9971-48b7-83a0-626deadeb6cb"
   },
   "outputs": [],
   "source": [
    "# Block 5: Try printing the number of the cost of notebooks you stored in cost_notebooks."
   ]
  },
  {
   "cell_type": "code",
   "execution_count": null,
   "id": "a7b50660-9e49-49bb-998f-124f8167562b",
   "metadata": {
    "id": "a7b50660-9e49-49bb-998f-124f8167562b"
   },
   "outputs": [],
   "source": [
    "# Block 6: Store your name in a variable called name, and print it."
   ]
  },
  {
   "cell_type": "code",
   "execution_count": null,
   "id": "c31a8dda-a8fb-4d72-94f0-2b540af604dd",
   "metadata": {
    "id": "c31a8dda-a8fb-4d72-94f0-2b540af604dd"
   },
   "outputs": [],
   "source": []
  }
 ],
 "metadata": {
  "colab": {
   "name": "Day 1 lab notebook.ipynb",
   "provenance": []
  },
  "kernelspec": {
   "display_name": "Python 3 (ipykernel)",
   "language": "python",
   "name": "python3"
  },
  "language_info": {
   "codemirror_mode": {
    "name": "ipython",
    "version": 3
   },
   "file_extension": ".py",
   "mimetype": "text/x-python",
   "name": "python",
   "nbconvert_exporter": "python",
   "pygments_lexer": "ipython3",
   "version": "3.9.5"
  }
 },
 "nbformat": 4,
 "nbformat_minor": 5
}
