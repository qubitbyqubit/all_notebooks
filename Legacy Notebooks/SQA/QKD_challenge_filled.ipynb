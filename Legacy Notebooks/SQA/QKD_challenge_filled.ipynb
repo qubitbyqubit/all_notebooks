{
 "cells": [
  {
   "cell_type": "markdown",
   "metadata": {
    "id": "xNrRQUamRDIC"
   },
   "source": [
    "<div style=\"text-align: center; margin: 50px\">\n",
    "\n",
    "<h1 style=\"color: white; background-color: grey; text-align: center;\">Quantum Key distribution</h1>\n",
    "<h3>Lab notebook</h3>\n",
    "\n",
    "</div>"
   ]
  },
  {
   "cell_type": "code",
   "execution_count": 1,
   "metadata": {
    "id": "Xp6x4WgdRDIG"
   },
   "outputs": [
    {
     "name": "stdout",
     "output_type": "stream",
     "text": [
      "Libraries imported successfully!\n"
     ]
    }
   ],
   "source": [
    "import numpy as np\n",
    "# Importing standard Qiskit libraries\n",
    "from qiskit import QuantumCircuit, execute, transpile, Aer, IBMQ\n",
    "from qiskit.tools.jupyter import *\n",
    "from qiskit.visualization import *\n",
    "from ibm_quantum_widgets import *\n",
    "\n",
    "# Loading your IBM Quantum account(s)\n",
    "provider = IBMQ.load_account()\n",
    "\n",
    "from random import getrandbits\n",
    "print('Libraries imported successfully!')"
   ]
  },
  {
   "cell_type": "markdown",
   "metadata": {
    "id": "_wrSvdLuRDII"
   },
   "source": [
    "## Coding cheat sheet:\n",
    "\n",
    "#Defining a quantum circuit: \n",
    "\n",
    "`qc = QuantumCircuit(1)` #Define a 1 qubit quantum circuit <br>\n",
    "\n",
    "`qc.x(0)` #Add an X gate <br>\n",
    "`qc.h(0)` #Add an H gate <br>\n",
    "`qc.z(0)` #Add a Z gate <br>\n",
    "`qc.y(0)` #Add a Y gate <br>\n",
    "\n",
    "`qc.draw()` #Draw the circuit <br>\n",
    "\n",
    "**Using the statevector simulator** (Do this no matter which way you want to see the output):<br>\n",
    "\n",
    "`svsim = Aer.get_backend('statevector_simulator')` # Tell it which simulator you want to use <br>\n",
    "`job = execute(qc,svsim)` # Put in the name of your quantum circuit where it says qc<br>\n",
    "`result = job.result()` <br>\n",
    "\n",
    "\n",
    "See the output on the Bloch sphere:<br>\n",
    "`state = result.get_statevector()` <br>\n",
    "`plot_bloch_multivector(state)`<br>\n",
    "\n",
    "See the output in vector form:<br>\n",
    "`state = result.get_statevector()` <br>\n",
    "`array_to_latex(state, pretext=\"\\\\text{Statevector} = \")` <br>\n",
    "\n",
    "See the output in histogram form: <br>\n",
    "`counts = result.get_counts(qc)` <br>\n",
    "`plot_histogram(counts)` <br>\n",
    "\n",
    "**Using the qasm simulator:**\n",
    "\n",
    "`qc.measure_all()` #adds measurements <br>\n",
    "\n",
    "`svsim = Aer.get_backend('qasm_simulator')` # Change statevector to qasm <br>\n",
    "`job = execute(qc,svsim,shots=100)` # add shots - tell it how many times to run <br>\n",
    "`result = job.result()` <br>\n",
    "\n",
    "\n",
    "**Using a real quantum computer:**\n",
    "\n",
    "Find the least busy backend: <br>\n",
    "`IBMQ.load_account()` <br>\n",
    "`provider = IBMQ.get_provider(hub='ibm-q')` <br>\n",
    "`backend = least_busy(provider.backends(filters=lambda x: x.configuration().n_qubits >= 2 \n",
    "                                       and not x.configuration().simulator \n",
    "                                       and x.status().operational==True))` <br>\n",
    "`print(\"least busy backend: \", backend)` <br>\n",
    "\n",
    "\n",
    "Run the job:\n",
    "`job = execute(qc, backend=backend, shots=100)`\n",
    "\n",
    "`result = job.result()` <br>\n",
    "`counts = result.get_counts(qc)` <br>\n",
    "`plot_histogram(counts)` \n",
    "\n",
    "\n",
    "\n"
   ]
  },
  {
   "cell_type": "markdown",
   "metadata": {
    "id": "sXSpGRexRDIK",
    "tags": []
   },
   "source": [
    "<a id=\"step1\"></a>\n",
    "# Coding the QKD protocol\n",
    "\n",
    "Now that we have introduced you to the basic ideas behind QKD, let's try to code the actual protocol! In this notebook, we will give you the steps to code the protocol as well as some skeleton code. We will describe what you need to do at each step of the protocol. Try your best to complete the code to implement the protocol! It is completely okay (and expected) if you don't understand the details of each step. By the end of this session you will have a complete implementation, and you can play around with it on your own :) \n"
   ]
  },
  {
   "cell_type": "markdown",
   "metadata": {
    "tags": []
   },
   "source": [
    "### The QKD protocol we will implement has the following steps:\n",
    "1. The sender (Alice) generates a list of random bits (0s and 1s)\n",
    "2. Alice generates a list of random encoding bases (X basis or Z basis)\n",
    "3. Alice uses the lists of bits and bases to encode qubits using an encoding/decoding scheme\n",
    "4. The receiver (Bob) receives Alice's qubits\n",
    "5. Bob generates a list of random decoding bases (X basis or Z basis)\n",
    "6. Bob makes measurements on the qubits using the decoding bases\n",
    "7. Bob decodes the results of the measurements using the same encoding/decoding scheme\n",
    "8. Alice and Bob compare their list of bases\n",
    "9. Alice and Bob compare some of their bits to check for an eavesdropper. Based on the result, they either construct their key or find the eavesdropper.\n",
    "\n",
    "\n",
    "The three major QKD ideas we introduced - bases, encoding/decoding, and comparison, will be relevant in these steps. Specifically, Alice will generate a list of bases in Step 2 and use them in Step 3, and Bob will generate a list of bases in Step 5 and use them in Step 6. Alice will encode qubits using the table we showed you in Step 3, and Bob will decode qubits using this table in Step 7. Alice and Bob will compare their bases and bits in Steps 8 and 9."
   ]
  },
  {
   "cell_type": "markdown",
   "metadata": {},
   "source": [
    "## Step 1: Alice generates a list of random bits (0s and 1s)\n",
    "\n",
    "In this first step, Alice generates a list of random bits. Remember that the key is just a series of bits - what is quantum about QKD is not the key itself, but the way the key is shared between Alice and Bob. Some of the bits that Alice generates in this step will ultimately make it to the key.\n",
    "\n",
    "There are many ways to generate random bits in Python. We will use the function `getrandbits` in the library `random`. We have already imported this function with the rest of our libraries. \n",
    "\n",
    "In the following block, we will use this function to generate a list of 500 random bits called `alice_bits`. "
   ]
  },
  {
   "cell_type": "code",
   "execution_count": 2,
   "metadata": {
    "id": "UWxHUurKRDIM",
    "outputId": "8989dc83-297b-4ace-d982-fec451ba908c"
   },
   "outputs": [
    {
     "name": "stdout",
     "output_type": "stream",
     "text": [
      "['0', '0', '1', '0', '0', '1', '1', '1', '1', '1', '1', '0', '1', '1', '1', '0', '0', '0', '0', '0', '1', '0', '0', '0', '1', '0', '0', '0', '1', '0', '0', '1', '1', '0', '0', '1', '1', '0', '1', '1', '0', '1', '1', '1', '1', '0', '1', '0', '0', '1', '0', '1', '1', '0', '1', '0', '1', '0', '1', '1', '0', '1', '1', '1', '0', '1', '1', '1', '1', '0', '1', '1', '0', '0', '0', '0', '0', '1', '1', '0', '0', '0', '0', '0', '1', '1', '0', '0', '0', '0', '0', '0', '1', '0', '1', '1', '1', '1', '0', '0', '1', '0', '0', '1', '1', '1', '0', '0', '0', '0', '1', '1', '1', '0', '1', '1', '1', '1', '1', '1', '1', '1', '1', '0', '0', '0', '0', '1', '1', '0', '0', '1', '0', '0', '1', '1', '1', '0', '1', '1', '0', '0', '1', '1', '1', '1', '1', '1', '1', '0', '1', '1', '0', '0', '0', '1', '0', '1', '0', '0', '0', '1', '1', '0', '1', '1', '0', '1', '1', '1', '0', '0', '0', '1', '1', '0', '1', '1', '1', '0', '0', '0', '1', '0', '0', '1', '1', '1', '0', '0', '1', '1', '1', '1', '1', '0', '0', '0', '1', '0', '1', '1', '0', '0', '0', '0', '0', '0', '0', '1', '0', '1', '0', '0', '0', '0', '0', '1', '0', '0', '1', '0', '0', '1', '1', '0', '1', '0', '1', '0', '0', '1', '0', '0', '0', '1', '1', '1', '0', '1', '0', '1', '1', '0', '1', '1', '1', '1', '0', '0', '1', '1', '0', '1', '1', '1', '0', '1', '0', '0', '1', '1', '1', '0', '0', '0', '1', '0', '0', '1', '0', '0', '1', '0', '0', '1', '1', '1', '0', '1', '1', '0', '1', '0', '1', '1', '1', '0', '1', '1', '1', '1', '0', '1', '1', '1', '0', '1', '0', '1', '1', '1', '0', '1', '0', '1', '0', '1', '0', '1', '0', '1', '1', '1', '1', '1', '0', '1', '1', '1', '1', '0', '0', '1', '0', '1', '0', '1', '1', '0', '0', '0', '0', '1', '1', '1', '0', '1', '1', '1', '0', '1', '1', '0', '0', '0', '0', '0', '0', '0', '0', '1', '1', '1', '1', '1', '0', '0', '1', '0', '0', '0', '0', '1', '1', '0', '0', '1', '0', '1', '0', '0', '0', '0', '1', '1', '1', '0', '1', '0', '1', '0', '1', '1', '1', '0', '1', '1', '1', '1', '0', '1', '1', '0', '0', '1', '0', '1', '1', '0', '0', '0', '1', '1', '0', '1', '1', '0', '1', '0', '1', '1', '1', '1', '1', '1', '1', '1', '1', '0', '0', '1', '1', '1', '0', '0', '0', '0', '1', '0', '1', '0', '1', '0', '1', '0', '0', '1', '1', '0', '1', '0', '0', '1', '0', '1', '0', '0', '0', '1', '1', '0', '1', '0', '1', '1', '0', '0', '1', '1', '1', '1', '1', '1', '0', '1', '1', '1', '0', '0', '0', '0', '1', '0', '1', '0', '0', '0', '1', '1', '0', '1', '1', '1', '0', '1', '0', '0', '0', '0', '1', '0', '1', '1', '0', '1', '1', '0', '0', '0']\n"
     ]
    }
   ],
   "source": [
    "# BLOCK 1 - Generate Alice's bits.\n",
    "\n",
    "alice_bits = [] #This list will store Alice's bits\n",
    "    \n",
    "for i in range(500):   # Generate 500 random bits\n",
    "    alice_bits.append(str(getrandbits(1))) # The function getrandbits generates 1 random bit\n",
    "\n",
    "# Insert a print statement to see Alice's bits\n",
    "print(alice_bits)"
   ]
  },
  {
   "cell_type": "markdown",
   "metadata": {
    "id": "sZMQHpaCRDIN"
   },
   "source": [
    "## Step 2 - Alice randomly chooses encoding bases\n",
    "\n",
    "In this step, Alice will generate a random list of encoding bases. These encoding bases will be used to encode the bits from Step 1 into qubits. \n",
    "\n",
    "### What is a basis?\n",
    "You can think of a basis as a set of two quantum states that lie along a common axis on the Bloch sphere, as we just discussed. IN QKD, we conventionally use two bases - X and Z. Do you remember which two states lie along the X basis, and which lie along the Z basis?"
   ]
  },
  {
   "cell_type": "markdown",
   "metadata": {},
   "source": [
    "The |0> and |1> states lie along the Z axis! So, the Z basis consists of the states |0> and |1>. The |+> and |-> states lie along the X axis. So, the X basis consists of the states |+> and |->.\n",
    "\n",
    "We will study how these bases are used in the next step of the protocol."
   ]
  },
  {
   "cell_type": "markdown",
   "metadata": {},
   "source": [
    "In our protocol, we will use these two encoding bases - the X basis and the Z basis. So, the four possible qubit states we will work with will be |0>, |1>, |+>, and |->."
   ]
  },
  {
   "cell_type": "markdown",
   "metadata": {},
   "source": [
    "In the next block, we have code to generate a list of random bases - X or Z. We will use the same function `getrandbits` to generate this list of bases."
   ]
  },
  {
   "cell_type": "code",
   "execution_count": 3,
   "metadata": {
    "id": "PD0sOxAnRDIO",
    "outputId": "0ab90d2e-4b0b-4f1e-c5dd-0b46e3dff663"
   },
   "outputs": [
    {
     "name": "stdout",
     "output_type": "stream",
     "text": [
      "['Z', 'X', 'X', 'X', 'X', 'X', 'X', 'X', 'Z', 'X', 'X', 'Z', 'Z', 'X', 'X', 'Z', 'Z', 'Z', 'X', 'X', 'X', 'Z', 'X', 'X', 'Z', 'Z', 'Z', 'Z', 'X', 'Z', 'Z', 'X', 'Z', 'Z', 'X', 'Z', 'X', 'Z', 'X', 'Z', 'X', 'Z', 'X', 'Z', 'Z', 'X', 'Z', 'X', 'X', 'X', 'X', 'X', 'Z', 'X', 'X', 'Z', 'X', 'Z', 'X', 'X', 'X', 'Z', 'X', 'Z', 'X', 'X', 'X', 'X', 'Z', 'Z', 'Z', 'Z', 'X', 'X', 'X', 'Z', 'X', 'X', 'X', 'Z', 'Z', 'Z', 'X', 'X', 'X', 'Z', 'Z', 'X', 'Z', 'X', 'Z', 'X', 'Z', 'X', 'X', 'Z', 'X', 'Z', 'X', 'X', 'Z', 'X', 'Z', 'Z', 'X', 'X', 'X', 'X', 'Z', 'Z', 'X', 'Z', 'X', 'X', 'X', 'X', 'X', 'Z', 'Z', 'Z', 'Z', 'Z', 'Z', 'Z', 'Z', 'Z', 'X', 'Z', 'Z', 'X', 'Z', 'X', 'X', 'Z', 'Z', 'Z', 'Z', 'X', 'Z', 'Z', 'X', 'X', 'Z', 'Z', 'X', 'Z', 'Z', 'X', 'Z', 'Z', 'X', 'X', 'X', 'X', 'X', 'X', 'X', 'Z', 'X', 'X', 'Z', 'X', 'Z', 'X', 'Z', 'Z', 'Z', 'Z', 'Z', 'Z', 'X', 'Z', 'Z', 'Z', 'X', 'Z', 'Z', 'Z', 'Z', 'X', 'X', 'Z', 'X', 'Z', 'Z', 'Z', 'Z', 'Z', 'X', 'Z', 'Z', 'X', 'Z', 'X', 'X', 'X', 'Z', 'X', 'Z', 'Z', 'X', 'X', 'X', 'Z', 'X', 'Z', 'X', 'X', 'X', 'X', 'X', 'Z', 'Z', 'Z', 'Z', 'Z', 'X', 'Z', 'Z', 'X', 'X', 'X', 'Z', 'Z', 'X', 'Z', 'Z', 'X', 'Z', 'Z', 'Z', 'X', 'X', 'Z', 'Z', 'Z', 'X', 'X', 'X', 'Z', 'Z', 'X', 'X', 'Z', 'Z', 'X', 'Z', 'X', 'X', 'Z', 'Z', 'Z', 'Z', 'X', 'X', 'X', 'X', 'X', 'Z', 'X', 'X', 'X', 'X', 'X', 'X', 'Z', 'X', 'X', 'X', 'Z', 'Z', 'Z', 'X', 'Z', 'X', 'X', 'X', 'X', 'X', 'Z', 'Z', 'X', 'X', 'Z', 'X', 'Z', 'X', 'Z', 'Z', 'X', 'X', 'Z', 'Z', 'Z', 'Z', 'X', 'Z', 'X', 'X', 'Z', 'X', 'X', 'X', 'Z', 'X', 'Z', 'X', 'X', 'Z', 'X', 'X', 'Z', 'Z', 'Z', 'X', 'X', 'X', 'X', 'Z', 'X', 'X', 'X', 'X', 'Z', 'Z', 'Z', 'Z', 'X', 'X', 'X', 'Z', 'X', 'X', 'Z', 'X', 'Z', 'X', 'X', 'X', 'Z', 'Z', 'X', 'X', 'X', 'Z', 'Z', 'X', 'X', 'X', 'Z', 'Z', 'Z', 'Z', 'X', 'Z', 'X', 'X', 'Z', 'X', 'Z', 'Z', 'Z', 'Z', 'Z', 'X', 'Z', 'X', 'X', 'Z', 'Z', 'Z', 'X', 'Z', 'Z', 'Z', 'X', 'X', 'X', 'Z', 'Z', 'X', 'X', 'X', 'Z', 'X', 'X', 'Z', 'Z', 'Z', 'X', 'X', 'Z', 'Z', 'X', 'Z', 'X', 'X', 'Z', 'Z', 'X', 'Z', 'Z', 'X', 'X', 'X', 'Z', 'X', 'Z', 'X', 'X', 'Z', 'X', 'Z', 'X', 'X', 'X', 'X', 'X', 'Z', 'X', 'X', 'Z', 'Z', 'X', 'Z', 'X', 'X', 'Z', 'X', 'X', 'Z', 'Z', 'Z', 'Z', 'X', 'Z', 'X', 'Z', 'Z', 'Z', 'X', 'Z', 'Z', 'X', 'Z', 'Z', 'X', 'X', 'X', 'Z', 'Z', 'Z', 'X', 'Z', 'X', 'Z', 'Z', 'X', 'Z', 'X', 'Z', 'Z', 'X', 'X', 'X', 'Z', 'X', 'Z', 'X', 'Z', 'Z', 'X', 'X', 'X', 'X', 'Z', 'X', 'Z', 'Z', 'Z', 'X', 'Z', 'Z', 'Z', 'X', 'X', 'X', 'X', 'X', 'X', 'Z', 'X', 'X', 'Z', 'Z', 'Z', 'X', 'Z', 'X', 'Z']\n"
     ]
    }
   ],
   "source": [
    "# BLOCK 2 - Generate Alice's bases.\n",
    "\n",
    "alice_bases = [] # List to store Alice's bases\n",
    "for i in range(500):\n",
    "    base = getrandbits(1)\n",
    "    if base == 0:\n",
    "        alice_bases.append(\"Z\")\n",
    "    else:\n",
    "        #WRITE CODE HERE: Write code to append \"X\" to alice_bases\n",
    "        alice_bases.append(\"X\")\n",
    "\n",
    "# WRITE CODE HERE: Add a print statement to display Alice's bases\n",
    "print(alice_bases)"
   ]
  },
  {
   "cell_type": "markdown",
   "metadata": {
    "id": "7nudVx6xRDIP"
   },
   "source": [
    "<a id=\"step3\"></a>\n",
    "## Step 3 - Encode the classical bits into qubits using encoding bases\n",
    "\n",
    "\n",
    "In this step, Alice will use the lists of bits and encodinf bases to qubits to send to Bob. The table below summarizes the qubit states Alice sends, based on the bit of Alice's `alice_bits` the corresponding basis of `alice_bases`:\n",
    "\n",
    "| Bit in `alice_bits` | Corresponding basis in `alice_bases` | Encoding basis | Qubit state sent |\n",
    "|:----------------:|:--------------------------:|:--------------------------:|:---------------:|\n",
    "| 0 | Z | $$|0\\rangle,|1\\rangle$$ |$$|0\\rangle$$ |\n",
    "| 1 | Z | $$|0\\rangle,|1\\rangle$$ |$$|1\\rangle$$ |\n",
    "| 0 | X | $$|+\\rangle,|-\\rangle$$ |$$|+\\rangle$$ |\n",
    "| 1 | X | $$|+\\rangle,|-\\rangle$$ |$$|-\\rangle$$ |\n",
    "\n",
    "So, for example, if the first bit in `alice_bits` is 0 and the first basis in `alice_bases` is X, Alice will encode a |+> state qubit. If the second bit in `alice_bits` is 1 and the second basis in `alice_bases` is Z, Alice will encode a |1> state qubit.\n",
    "\n",
    "In the next block, we will implement this encoding step using a for loop and conditional statements. Fill in the missing code to complete the encoding step!"
   ]
  },
  {
   "cell_type": "code",
   "execution_count": 4,
   "metadata": {
    "id": "j8HAIXynRDIQ"
   },
   "outputs": [],
   "source": [
    "#BLOCK 4 - Encode Alice's qubits. Remeber that the qubit will be in the |0> state at the start, before any gates are applied.\n",
    "\n",
    "encoded_qubits = []\n",
    "for i in range(500):\n",
    "    qc = QuantumCircuit(1,1) #Creating a new quantum circuit for each bit-basis combination\n",
    "    if alice_bases[i] == \"Z\":\n",
    "        if alice_bits[i] == '0':\n",
    "            #WRITE CODE HERE: What gate should we apply in this case?\n",
    "            pass\n",
    "        elif alice_bits[i] == '1':\n",
    "            qc.x(0)\n",
    "             #WRITE CODE HERE: What gate should we apply in this case?\n",
    "    elif alice_bases[i] == \"X\":# WRITE CODE HERE: Complete the code for this elif condition to test if the current basis is X\n",
    "        if alice_bits[i] == '0':# WRITE CODE HERE: Complete the code for this if condition to test if the current bit is 0\n",
    "            qc.h(0) #WRITE CODE HERE: What gate should we apply in this case?\n",
    "        elif alice_bits[i] == '1': # WRITE CODE HERE: Complete the code for this elif condition to test if the current bit is 1\n",
    "            qc.x(0)\n",
    "            qc.h(0) #WRITE CODE HERE: What gates should we apply in this case?\n",
    "            \n",
    "    encoded_qubits.append(qc) # Adding the qubit with the right state to the list of qubits that Alice will send Bob"
   ]
  },
  {
   "cell_type": "markdown",
   "metadata": {
    "id": "Sao49VvHRDIR"
   },
   "source": [
    "# Step 4 - Alice sends qubits to Bob\n",
    "\n",
    "### There's nothing we need to code here. Alice would send the qubits to Bob (maybe through a fiber optic cable)"
   ]
  },
  {
   "cell_type": "markdown",
   "metadata": {
    "id": "PSQ8Ku5CRDIR"
   },
   "source": [
    "## Step 5 - Bob randomly picks the bases he will use to measure Alices's qubits\n",
    "\n",
    "Bob has received Alice's qubits and will now measure them. Before Bob measures these qubits, he needs to randomly generate a list of decoding bases. He will use these decoding bases while making measurements on the qubits and decoding them into classical bits.\n",
    "\n",
    "In the block below, write code to generate a list of 500 bases. We have created an empty list for you to start with. \n",
    "\n",
    "Hint: You can copy the code used in Block 2 by Alice!"
   ]
  },
  {
   "cell_type": "code",
   "execution_count": 5,
   "metadata": {
    "id": "4icDtCbERDIS",
    "outputId": "ee5062ee-ec0b-4927-91ad-36bb14c949d4"
   },
   "outputs": [
    {
     "name": "stdout",
     "output_type": "stream",
     "text": [
      "['X', 'X', 'X', 'X', 'X', 'X', 'X', 'X', 'Z', 'X', 'X', 'X', 'Z', 'Z', 'Z', 'Z', 'X', 'Z', 'Z', 'X', 'X', 'X', 'X', 'Z', 'Z', 'X', 'X', 'X', 'X', 'X', 'Z', 'X', 'X', 'X', 'X', 'Z', 'X', 'X', 'Z', 'Z', 'Z', 'X', 'Z', 'X', 'X', 'X', 'X', 'Z', 'X', 'X', 'Z', 'X', 'X', 'X', 'X', 'X', 'Z', 'X', 'X', 'X', 'Z', 'Z', 'X', 'Z', 'Z', 'Z', 'Z', 'X', 'X', 'Z', 'Z', 'X', 'X', 'Z', 'Z', 'Z', 'Z', 'X', 'X', 'X', 'Z', 'X', 'X', 'X', 'Z', 'X', 'Z', 'X', 'X', 'Z', 'Z', 'X', 'X', 'X', 'X', 'Z', 'Z', 'Z', 'X', 'Z', 'Z', 'Z', 'Z', 'X', 'X', 'X', 'Z', 'Z', 'X', 'Z', 'X', 'Z', 'Z', 'Z', 'X', 'X', 'Z', 'X', 'X', 'Z', 'X', 'X', 'X', 'Z', 'Z', 'X', 'Z', 'Z', 'X', 'Z', 'Z', 'X', 'Z', 'Z', 'X', 'X', 'X', 'Z', 'X', 'X', 'X', 'X', 'X', 'Z', 'Z', 'X', 'Z', 'Z', 'Z', 'X', 'Z', 'X', 'X', 'Z', 'X', 'Z', 'Z', 'Z', 'X', 'X', 'X', 'Z', 'Z', 'X', 'Z', 'X', 'X', 'X', 'X', 'X', 'X', 'X', 'X', 'X', 'Z', 'X', 'Z', 'X', 'Z', 'Z', 'Z', 'X', 'X', 'X', 'X', 'X', 'X', 'X', 'Z', 'X', 'Z', 'X', 'Z', 'X', 'X', 'Z', 'Z', 'Z', 'X', 'Z', 'X', 'Z', 'Z', 'X', 'Z', 'Z', 'X', 'Z', 'X', 'Z', 'Z', 'X', 'Z', 'X', 'X', 'Z', 'X', 'X', 'Z', 'Z', 'Z', 'X', 'Z', 'Z', 'X', 'Z', 'Z', 'X', 'Z', 'X', 'X', 'X', 'X', 'Z', 'X', 'X', 'X', 'X', 'X', 'Z', 'X', 'Z', 'X', 'X', 'X', 'X', 'Z', 'X', 'Z', 'Z', 'Z', 'X', 'Z', 'X', 'Z', 'X', 'Z', 'X', 'X', 'Z', 'Z', 'X', 'Z', 'Z', 'Z', 'Z', 'Z', 'Z', 'Z', 'X', 'Z', 'X', 'X', 'Z', 'X', 'Z', 'Z', 'X', 'X', 'Z', 'Z', 'X', 'Z', 'X', 'X', 'Z', 'X', 'X', 'X', 'X', 'X', 'X', 'Z', 'X', 'Z', 'X', 'Z', 'Z', 'X', 'Z', 'Z', 'X', 'X', 'X', 'Z', 'Z', 'Z', 'X', 'Z', 'X', 'Z', 'X', 'Z', 'Z', 'Z', 'X', 'X', 'X', 'X', 'Z', 'Z', 'Z', 'X', 'X', 'X', 'X', 'Z', 'Z', 'X', 'X', 'Z', 'Z', 'Z', 'Z', 'X', 'Z', 'Z', 'Z', 'X', 'X', 'X', 'X', 'Z', 'Z', 'Z', 'Z', 'X', 'X', 'X', 'X', 'X', 'X', 'X', 'Z', 'X', 'X', 'X', 'Z', 'X', 'X', 'Z', 'Z', 'Z', 'X', 'X', 'X', 'Z', 'X', 'X', 'X', 'X', 'X', 'Z', 'X', 'X', 'X', 'X', 'X', 'Z', 'X', 'Z', 'X', 'X', 'Z', 'Z', 'Z', 'Z', 'Z', 'X', 'Z', 'X', 'X', 'Z', 'X', 'Z', 'Z', 'X', 'Z', 'X', 'X', 'Z', 'Z', 'X', 'X', 'X', 'X', 'X', 'Z', 'X', 'X', 'X', 'Z', 'Z', 'Z', 'X', 'Z', 'X', 'Z', 'Z', 'Z', 'X', 'Z', 'X', 'X', 'Z', 'X', 'X', 'X', 'X', 'X', 'X', 'X', 'X', 'X', 'X', 'X', 'Z', 'Z', 'Z', 'Z', 'Z', 'Z', 'X', 'X', 'X', 'Z', 'Z', 'X', 'Z', 'X', 'X', 'Z', 'Z', 'Z', 'X', 'X', 'Z', 'X', 'X', 'Z', 'X', 'Z', 'Z', 'Z', 'X', 'X', 'X', 'X', 'Z', 'Z', 'X', 'X', 'Z', 'Z', 'X', 'X', 'Z', 'Z', 'Z', 'X', 'Z', 'X', 'Z', 'Z', 'Z', 'Z', 'X', 'Z', 'X', 'Z', 'X', 'Z', 'X', 'Z', 'X', 'Z', 'X', 'X', 'Z', 'X']\n"
     ]
    }
   ],
   "source": [
    "#BLOCK 4  - generate Bob's bases\n",
    "\n",
    "bob_bases = []\n",
    "# WRITE CODE HERE: Copy code from Block 2 to create the list of Bob's bases\n",
    "\n",
    "# WRITE CODE HERE: Add a print statement to see Bob's bases\n",
    "for i in range(500):\n",
    "    base = getrandbits(1)\n",
    "    if base == 0:\n",
    "        bob_bases.append(\"Z\")\n",
    "    else:\n",
    "        #WRITE CODE HERE: Write code to append \"X\" to alice_bases\n",
    "        bob_bases.append(\"X\")\n",
    "\n",
    "# WRITE CODE HERE: Add a print statement to display Alice's bases\n",
    "print(bob_bases)"
   ]
  },
  {
   "cell_type": "markdown",
   "metadata": {
    "id": "nybc6lLWRDIS"
   },
   "source": [
    "## Step 6 & 7 - Bob makes measurements and decodes qubits into bits\n",
    "\n",
    "Bob now has to measure the qubits in the randomly generated list of decoding bases that he chose in Step 5. We have completed this step for you.\n",
    "\n",
    "### Why is Bob decoding?\n",
    "Why does Bob need to measureand decode qubits to bits? Remeber that the key that Alice and Bob share is ultimately a series of bits. Alice has a list of bits, and, by decoding Alice's qubits, Bob will generate a list of bits as well. Alice and Bob will use their lists of bits in later steps to create their key!\n",
    "\n",
    "### Why does Bob need to select decoding bases?\n",
    "Bob does not know which bases Alice used to encode the qubits, so the best that Bob can do it randomly guess. If Bob guesses correctly, Bob's decoded classical bit will be the same as Alice's bit. If Bob guesses incorrectly, Bob's decoded bit might be different from Alice's bit."
   ]
  },
  {
   "cell_type": "code",
   "execution_count": 6,
   "metadata": {
    "id": "w7tpsYubRDIT",
    "outputId": "c899af4b-af03-424c-9d38-3713f86f59d7"
   },
   "outputs": [
    {
     "name": "stdout",
     "output_type": "stream",
     "text": [
      "['0', '0', '1', '0', '0', '1', '1', '1', '1', '1', '1', '1', '1', '1', '1', '0', '1', '0', '1', '0', '1', '1', '0', '1', '1', '1', '1', '0', '1', '0', '0', '1', '1', '1', '0', '1', '1', '0', '0', '1', '1', '1', '0', '1', '0', '0', '1', '0', '0', '1', '1', '1', '0', '0', '1', '1', '0', '0', '1', '1', '1', '1', '1', '1', '1', '0', '0', '1', '1', '0', '1', '0', '0', '0', '1', '0', '0', '1', '1', '1', '0', '1', '0', '0', '0', '0', '0', '0', '1', '0', '0', '0', '1', '0', '1', '1', '1', '1', '0', '0', '1', '1', '0', '1', '1', '1', '1', '0', '1', '0', '1', '1', '1', '1', '1', '1', '0', '0', '0', '1', '0', '0', '1', '0', '0', '0', '1', '1', '1', '0', '0', '1', '1', '0', '1', '0', '1', '1', '0', '1', '0', '0', '1', '1', '1', '1', '1', '0', '1', '0', '1', '1', '0', '1', '0', '1', '1', '1', '0', '0', '1', '1', '1', '0', '1', '0', '0', '0', '0', '1', '0', '0', '1', '1', '1', '0', '1', '0', '1', '1', '0', '1', '1', '0', '0', '0', '1', '0', '1', '1', '1', '1', '1', '1', '1', '1', '0', '1', '0', '0', '1', '0', '0', '1', '1', '0', '0', '0', '0', '1', '0', '0', '0', '1', '1', '0', '0', '1', '0', '1', '0', '0', '0', '1', '1', '0', '1', '0', '1', '1', '0', '1', '0', '0', '0', '1', '1', '1', '0', '1', '0', '1', '1', '1', '1', '1', '1', '1', '0', '0', '1', '0', '0', '1', '1', '1', '1', '1', '1', '1', '0', '1', '1', '1', '1', '0', '1', '0', '1', '0', '0', '0', '1', '0', '0', '0', '0', '1', '0', '1', '1', '0', '0', '1', '1', '1', '1', '1', '1', '1', '1', '1', '0', '1', '1', '1', '0', '0', '0', '1', '0', '1', '0', '1', '0', '1', '0', '1', '0', '1', '1', '0', '1', '1', '0', '1', '0', '1', '1', '0', '1', '0', '0', '1', '1', '0', '0', '1', '1', '0', '0', '1', '0', '1', '1', '1', '0', '1', '1', '0', '0', '1', '1', '1', '0', '0', '0', '0', '0', '1', '0', '0', '1', '0', '0', '1', '0', '0', '1', '1', '0', '0', '0', '0', '1', '0', '0', '1', '0', '0', '1', '0', '0', '0', '0', '1', '1', '0', '1', '1', '1', '0', '1', '1', '0', '1', '1', '1', '1', '1', '0', '1', '1', '0', '0', '0', '0', '1', '1', '0', '0', '0', '1', '1', '0', '1', '1', '0', '1', '0', '1', '1', '1', '0', '1', '0', '1', '0', '1', '0', '0', '1', '0', '1', '0', '0', '0', '1', '1', '0', '0', '1', '0', '0', '1', '1', '1', '1', '1', '0', '0', '0', '0', '1', '1', '1', '0', '0', '0', '1', '1', '0', '1', '0', '1', '0', '0', '0', '0', '1', '0', '1', '1', '0', '0', '0', '1', '0', '0', '0', '0', '0', '0', '1', '1', '0', '1', '0', '1', '0', '0', '1', '1', '1', '1', '1', '0', '1', '0', '0', '1', '0', '1', '1', '0', '1', '1', '1', '0', '0']\n"
     ]
    }
   ],
   "source": [
    "#BLOCK 6 - measure Alice's qubits. Remeber that if a bit bob_bases is 0, Bob measures in the Z basis. If the bit is 1,\n",
    "# Bob measures in the X basis.\n",
    "\n",
    "bob_bits = [] # List of Bob's bits generated from the results of Bob's measurements\n",
    "    \n",
    "for i in range(500):\n",
    "    qc = encoded_qubits[i]\n",
    "        \n",
    "    if bob_bases[i] == \"Z\": # Bob's basis is Z\n",
    "        qc.measure(0,0)\n",
    "        \n",
    "\n",
    "    elif bob_bases[i] == \"X\": # Bob's basis is X\n",
    "        qc.h(0)\n",
    "        qc.measure(0,0) # This is how an X basis measurement is made\n",
    "            \n",
    "            \n",
    "      # Now that the measurements have been added to the circuit, let's run them.\n",
    "    job = execute(qc, backend=Aer.get_backend('qasm_simulator'), shots = 1) \n",
    "    results = job.result()\n",
    "    counts = results.get_counts()\n",
    "    measured_bit = max(counts, key=counts.get)\n",
    "\n",
    "        # Append measured bit to Bob's measured bitstring\n",
    "    bob_bits.append(measured_bit) \n",
    "print(bob_bits)"
   ]
  },
  {
   "cell_type": "markdown",
   "metadata": {
    "id": "0R7N36AwRDIU"
   },
   "source": [
    "## Step 8 - Alice and Bob compare their bases\n",
    "\n",
    "Alice and Bob now both have a list of bits, and a list of bases. Their next step is to compare their list of bases to see which of their bases match. \n",
    "\n",
    "Here is the punchline of the QKD protocol - **If their bases match, their bits have to match as well.** Think about this statement for a minute - why is it true? Try out an example yourself - what if Alice encodes a 0 on the X basis, and Bob also measures it in the X basis? Is Bob's bit guaranteed to be the same as Alice's? What if, instead, Bob had measured in the Z basis? Are the bits still guaranteed to be the same?\n",
    "\n",
    "So, by throwing away the bits for which their bases do not match, they will be left with a matching series of bits! This will be their key.\n",
    "\n",
    "In the next block, complete the code to compare Alice and Bob's bases and store the indices of the bases that match in the list `agreeing_indices`. \n",
    "\n",
    "Can you guess roughly how many of their bases should match? This will also be the length of their keys! Remember that they randomly picked one of two bases - X or Z."
   ]
  },
  {
   "cell_type": "code",
   "execution_count": 7,
   "metadata": {
    "id": "J5iS3-47RDIU",
    "outputId": "ec12815b-1820-48eb-d96f-e638c0ff531b"
   },
   "outputs": [
    {
     "data": {
      "text/plain": [
       "253"
      ]
     },
     "execution_count": 7,
     "metadata": {},
     "output_type": "execute_result"
    }
   ],
   "source": [
    "#BLOCK 7 - Alice and Bob compare their bases\n",
    "\n",
    "agreeing_indices = []\n",
    "    \n",
    "for i in range(500):\n",
    "    if alice_bases[i] == bob_bases[i]:\n",
    "        agreeing_indices.append(i) # WRITE CODE HERE. Add code to compare Alice and Bob's bases one-by-one. If their bases at a given index match, append that index to agreeing_indices\n",
    "    \n",
    "len(agreeing_indices) # This statement will print how many bases were the same for Alice and Bob. Can you guess what this number should approximately be?"
   ]
  },
  {
   "cell_type": "markdown",
   "metadata": {
    "id": "YV5qs3iYRDIU"
   },
   "source": [
    "## Step 9 - Alice and Bob generate their key\n",
    "\n",
    "The step you've been waiting for! Alice and Bob now know which of their bases match, and can now generate their keys. In the next two blocks, Alice and Bob will create their keys using the list of matching indices `agreeing_indices`.\n",
    "\n",
    "We have completed the block making Alice's key. Can you complete the block with Bob's key?\n",
    "\n",
    "Next, Alice and Bob will compare the first 10 bits of their keys, to check if they are the same."
   ]
  },
  {
   "cell_type": "code",
   "execution_count": 8,
   "metadata": {
    "id": "DseUqTXhRDIV",
    "outputId": "c363d9de-82e8-4c4b-d484-b9519a016564"
   },
   "outputs": [
    {
     "name": "stdout",
     "output_type": "stream",
     "text": [
      "['0', '1', '0', '0', '1', '1', '1', '1', '1', '1', '1', '0', '0', '0', '1', '0', '1', '1', '0', '1', '0', '1', '1', '1', '0', '0', '1', '1', '0', '1', '1', '1', '1', '1', '1', '1', '0', '1', '0', '0', '1', '1', '0', '0', '0', '0', '0', '0', '0', '0', '1', '1', '1', '0', '1', '0', '1', '1', '0', '1', '1', '1', '1', '1', '0', '0', '1', '0', '1', '0', '0', '0', '1', '1', '1', '1', '0', '0', '1', '0', '0', '1', '0', '1', '0', '1', '1', '1', '1', '1', '1', '1', '1', '0', '0', '1', '0', '0', '0', '0', '0', '0', '0', '0', '0', '1', '1', '0', '1', '0', '1', '1', '0', '0', '1', '1', '0', '1', '1', '1', '1', '1', '0', '1', '0', '1', '1', '1', '1', '0', '0', '1', '0', '0', '1', '0', '1', '1', '0', '1', '1', '1', '1', '1', '0', '1', '1', '0', '0', '1', '1', '0', '1', '1', '0', '1', '1', '1', '1', '0', '1', '0', '0', '1', '0', '0', '1', '1', '1', '1', '1', '0', '0', '0', '0', '0', '1', '0', '0', '1', '0', '0', '0', '1', '1', '0', '0', '1', '1', '0', '1', '0', '1', '1', '1', '1', '0', '1', '0', '0', '0', '1', '0', '0', '0', '1', '1', '0', '1', '0', '1', '0', '1', '1', '1', '1', '0', '1', '1', '0', '0', '0', '1', '0', '1', '1', '1', '0', '0', '1', '1', '0', '0', '0', '1', '0', '0', '1', '0', '1', '0', '0', '1', '0', '1', '1', '1', '0', '0', '1', '1', '1', '1']\n"
     ]
    }
   ],
   "source": [
    "#BLOCK 8 - create Alice's key\n",
    "\n",
    "alice_key = []\n",
    "for index in agreeing_indices:\n",
    "    alice_key.append(alice_bits[index])\n",
    "    \n",
    "# WRITE CODE HERE: Add a print statement to see Alice's key\n",
    "print(alice_key)"
   ]
  },
  {
   "cell_type": "code",
   "execution_count": 9,
   "metadata": {
    "id": "ONWmi9iNRDIV",
    "outputId": "595596d9-9eba-40be-87b0-315ddfa484f8"
   },
   "outputs": [
    {
     "name": "stdout",
     "output_type": "stream",
     "text": [
      "['0', '1', '0', '0', '1', '1', '1', '1', '1', '1', '1', '0', '0', '0', '1', '0', '1', '1', '0', '1', '0', '1', '1', '1', '0', '0', '1', '1', '0', '1', '1', '1', '1', '1', '1', '1', '0', '1', '0', '0', '1', '1', '0', '0', '0', '0', '0', '0', '0', '0', '1', '1', '1', '0', '1', '0', '1', '1', '0', '1', '1', '1', '1', '1', '0', '0', '1', '0', '1', '0', '0', '0', '1', '1', '1', '1', '0', '0', '1', '0', '0', '1', '0', '1', '0', '1', '1', '1', '1', '1', '1', '1', '1', '0', '0', '1', '0', '0', '0', '0', '0', '0', '0', '0', '0', '1', '1', '0', '1', '0', '1', '1', '0', '0', '1', '1', '0', '1', '1', '1', '1', '1', '0', '1', '0', '1', '1', '1', '1', '0', '0', '1', '0', '0', '1', '0', '1', '1', '0', '1', '1', '1', '1', '1', '0', '1', '1', '0', '0', '1', '1', '0', '1', '1', '0', '1', '1', '1', '1', '0', '1', '0', '0', '1', '0', '0', '1', '1', '1', '1', '1', '0', '0', '0', '0', '0', '1', '0', '0', '1', '0', '0', '0', '1', '1', '0', '0', '1', '1', '0', '1', '0', '1', '1', '1', '1', '0', '1', '0', '0', '0', '1', '0', '0', '0', '1', '1', '0', '1', '0', '1', '0', '1', '1', '1', '1', '0', '1', '1', '0', '0', '0', '1', '0', '1', '1', '1', '0', '0', '1', '1', '0', '0', '0', '1', '0', '0', '1', '0', '1', '0', '0', '1', '0', '1', '1', '1', '0', '0', '1', '1', '1', '1']\n"
     ]
    }
   ],
   "source": [
    "#BLOCK 9 - create Bob's key\n",
    "\n",
    "bob_key = []\n",
    "\n",
    "# WRITE CODE HERE: Add code to create Bob's key\n",
    "# WRITE CODE HERE: Add a print staement to see Bob's key\n",
    "for index in agreeing_indices:\n",
    "    bob_key.append(bob_bits[index])\n",
    "    \n",
    "# WRITE CODE HERE: Add a print statement to see Alice's key\n",
    "print(bob_key)"
   ]
  },
  {
   "cell_type": "code",
   "execution_count": 10,
   "metadata": {
    "id": "d5zA-snzRDIV",
    "outputId": "f6783af5-1394-4d55-fddf-6826af30cf7b"
   },
   "outputs": [
    {
     "name": "stdout",
     "output_type": "stream",
     "text": [
      "True\n"
     ]
    }
   ],
   "source": [
    "#BLOCK 10 - we can see that these keys are the same\n",
    "\n",
    "print(alice_key == bob_key)\n",
    "# WRITE CODE HERE: Add code to compare the first 10 bits of Alice and Bob's keys to see if they are the same."
   ]
  },
  {
   "cell_type": "markdown",
   "metadata": {},
   "source": [
    "## The keys are the same! Alice and Bob have created a key."
   ]
  },
  {
   "cell_type": "markdown",
   "metadata": {
    "id": "VZ-iBnLeRDIW"
   },
   "source": [
    "## Optional - Encryping and decrypting messages"
   ]
  },
  {
   "cell_type": "code",
   "execution_count": 11,
   "metadata": {
    "id": "Z7DHwgfiRDIW"
   },
   "outputs": [],
   "source": [
    "# BLOCK 11 - Functions to use the key to encrypt the secret message and decrypt the message\n",
    "\n",
    "import binascii\n",
    "\n",
    "def encrypt_message(unencrypted_string, key):\n",
    "    # Convert ascii string to binary string\n",
    "    bits = bin(int(binascii.hexlify(unencrypted_string.encode('utf-8', 'surrogatepass')), 16))[2:]\n",
    "    bitstring = bits.zfill(8 * ((len(bits) + 7) // 8))\n",
    "    # created the encrypted string using the key\n",
    "    encrypted_string = \"\"\n",
    "    for i in range(len(bitstring)):\n",
    "        encrypted_string += str( (int(bitstring[i])^ int(key[i])) )\n",
    "    return encrypted_string\n",
    "    \n",
    "def decrypt_message(encrypted_bits, key):\n",
    "    # created the unencrypted string using the key\n",
    "    unencrypted_bits = \"\"\n",
    "    for i in range(len(encrypted_bits)):\n",
    "        unencrypted_bits += str( (int(encrypted_bits[i])^ int(key[i])) )\n",
    "    # Convert bitstring into\n",
    "    i = int(unencrypted_bits, 2)\n",
    "    hex_string = '%x' % i\n",
    "    n = len(hex_string)\n",
    "    bits = binascii.unhexlify(hex_string.zfill(n + (n & 1)))\n",
    "    unencrypted_string = bits.decode('utf-8', 'surrogatepass')\n",
    "    return unencrypted_string"
   ]
  },
  {
   "cell_type": "code",
   "execution_count": 12,
   "metadata": {
    "id": "0XOSL09BRDIX",
    "outputId": "baa24cd1-5f01-411c-dd45-e8bd042229e7"
   },
   "outputs": [
    {
     "name": "stdout",
     "output_type": "stream",
     "text": [
      "Original Messge: QKD is cool!\n",
      "Encrypted message: 000111101010100110010011000101111001110110110011000110101011110001000111100111010011101111011000\n",
      "Decrypted message: QKD is cool!\n"
     ]
    }
   ],
   "source": [
    "# BLOCK 12 - Using the key to send and receive a secret message\n",
    "\n",
    "message = \"QKD is cool!\"\n",
    "print(\"Original Messge:\", message)\n",
    "# Call the function encrypt_message with the right inputs\n",
    "encrypted_message = encrypt_message(message,alice_key)\n",
    "print(\"Encrypted message:\", encrypted_message)\n",
    "# Call the function deencrypt_message with the right inputs\n",
    "decrypted_message = decrypt_message(encrypted_message, bob_key)\n",
    "print(\"Decrypted message:\", decrypted_message)"
   ]
  },
  {
   "cell_type": "markdown",
   "metadata": {},
   "source": [
    "# Optional homework\n",
    "## Implementing an eavesdropper\n",
    "\n",
    "Can you write code to implement the eavesdropper? Remember that the eavesdropper intercepts Alice's qubits and measures them.\n",
    "Then, the eavesdropper sends the measured qubits to Bob.\n",
    "So, the eavesdropper's code would be very similar to Bob's code.\n",
    "We recommend re-implementing the whole protocol with an eavesdropper in a new notebook.\n",
    "Does you code show that Alice and Bob's keys will not match if there is an eavesdropper? Post your code on Piazza!"
   ]
  },
  {
   "cell_type": "code",
   "execution_count": null,
   "metadata": {},
   "outputs": [],
   "source": []
  }
 ],
 "metadata": {
  "colab": {
   "name": "Week 3 Day 3-4 v1.ipynb",
   "provenance": []
  },
  "kernelspec": {
   "display_name": "Python 3 (ipykernel)",
   "language": "python",
   "name": "python3"
  },
  "language_info": {
   "codemirror_mode": {
    "name": "ipython",
    "version": 3
   },
   "file_extension": ".py",
   "mimetype": "text/x-python",
   "name": "python",
   "nbconvert_exporter": "python",
   "pygments_lexer": "ipython3",
   "version": "3.9.5"
  },
  "widgets": {
   "application/vnd.jupyter.widget-state+json": {
    "state": {
     "024202da5d094c6ab18c23c5f334b3ee": {
      "model_module": "@jupyter-widgets/controls",
      "model_module_version": "1.5.0",
      "model_name": "DescriptionStyleModel",
      "state": {
       "description_width": ""
      }
     },
     "060088203cdf4521a790549204398043": {
      "model_module": "@jupyter-widgets/base",
      "model_module_version": "1.2.0",
      "model_name": "LayoutModel",
      "state": {
       "grid_template_areas": "\n                                       \". . . . right \"\n                                        ",
       "grid_template_columns": "20% 20% 20% 20% 20%",
       "width": "100%"
      }
     },
     "0c273a9848cd44c6a605d0d2679d9fe6": {
      "model_module": "@jupyter-widgets/base",
      "model_module_version": "1.2.0",
      "model_name": "LayoutModel",
      "state": {}
     },
     "0d08443a983f498784ae5d80e25d6491": {
      "model_module": "@jupyter-widgets/controls",
      "model_module_version": "1.5.0",
      "model_name": "GridBoxModel",
      "state": {
       "children": [
        "IPY_MODEL_5f1962e44a0c41f0940213b393d5b66d"
       ],
       "layout": "IPY_MODEL_060088203cdf4521a790549204398043"
      }
     },
     "3954fc9e0f10468b86ce8204d6fac913": {
      "model_module": "@jupyter-widgets/controls",
      "model_module_version": "1.5.0",
      "model_name": "DescriptionStyleModel",
      "state": {
       "description_width": ""
      }
     },
     "50c882aaffee400eb84ed0fbf5452c86": {
      "model_module": "@jupyter-widgets/controls",
      "model_module_version": "1.5.0",
      "model_name": "ButtonStyleModel",
      "state": {}
     },
     "51cc0b39184048e98c52c762d97bb8ce": {
      "model_module": "@jupyter-widgets/base",
      "model_module_version": "1.2.0",
      "model_name": "LayoutModel",
      "state": {
       "width": "95px"
      }
     },
     "59e192ed2dda427683e58242596e40bc": {
      "model_module": "@jupyter-widgets/controls",
      "model_module_version": "1.5.0",
      "model_name": "HTMLModel",
      "state": {
       "layout": "IPY_MODEL_8f6300ba0d7e46cf81b272905c3b1e1e",
       "style": "IPY_MODEL_ccd383f9555c4b669fb024aa9fa13fcb",
       "value": "<h5>Queue</h5>"
      }
     },
     "5f1962e44a0c41f0940213b393d5b66d": {
      "model_module": "@jupyter-widgets/controls",
      "model_module_version": "1.5.0",
      "model_name": "ButtonModel",
      "state": {
       "button_style": "primary",
       "description": "Clear",
       "layout": "IPY_MODEL_c2497d3315644c479221f6271e8cc6a6",
       "style": "IPY_MODEL_50c882aaffee400eb84ed0fbf5452c86"
      }
     },
     "702255960d1e4854a70ead0eae08a672": {
      "model_module": "@jupyter-widgets/base",
      "model_module_version": "1.2.0",
      "model_name": "LayoutModel",
      "state": {
       "width": "145px"
      }
     },
     "77b7bf912cb242da81dfed1937ad2715": {
      "model_module": "@jupyter-widgets/controls",
      "model_module_version": "1.5.0",
      "model_name": "DescriptionStyleModel",
      "state": {
       "description_width": ""
      }
     },
     "8f6300ba0d7e46cf81b272905c3b1e1e": {
      "model_module": "@jupyter-widgets/base",
      "model_module_version": "1.2.0",
      "model_name": "LayoutModel",
      "state": {
       "width": "70px"
      }
     },
     "926a87e358e04ee1adc3224b8b749232": {
      "model_module": "@jupyter-widgets/base",
      "model_module_version": "1.2.0",
      "model_name": "LayoutModel",
      "state": {
       "margin": "0px 0px 10px 0px"
      }
     },
     "a9eb642d7b5b484f8fbc18f7f7b365f7": {
      "model_module": "@jupyter-widgets/controls",
      "model_module_version": "1.5.0",
      "model_name": "HTMLModel",
      "state": {
       "layout": "IPY_MODEL_702255960d1e4854a70ead0eae08a672",
       "style": "IPY_MODEL_d38cdb186a0b45c9a1a6b6221d888346",
       "value": "<h5>Backend</h5>"
      }
     },
     "aa042b71249942c184ff4c133cf5fc5d": {
      "model_module": "@jupyter-widgets/base",
      "model_module_version": "1.2.0",
      "model_name": "LayoutModel",
      "state": {
       "width": "190px"
      }
     },
     "c2497d3315644c479221f6271e8cc6a6": {
      "model_module": "@jupyter-widgets/base",
      "model_module_version": "1.2.0",
      "model_name": "LayoutModel",
      "state": {
       "grid_area": "right",
       "padding": "0px 0px 0px 0px",
       "width": "70px"
      }
     },
     "ca97cdef4e4c40a5aa0902b7b413ecb6": {
      "model_module": "@jupyter-widgets/controls",
      "model_module_version": "1.5.0",
      "model_name": "HBoxModel",
      "state": {
       "children": [
        "IPY_MODEL_ccc99286b3cf4055acb0716778873e57",
        "IPY_MODEL_a9eb642d7b5b484f8fbc18f7f7b365f7",
        "IPY_MODEL_ffbf65d5597040a2a29fe7b007e4c550",
        "IPY_MODEL_59e192ed2dda427683e58242596e40bc",
        "IPY_MODEL_fe3037f4784046c49459fe0c2f3bd0af"
       ],
       "layout": "IPY_MODEL_fe15432a4ede455f858c8e520e0d7671"
      }
     },
     "ccc99286b3cf4055acb0716778873e57": {
      "model_module": "@jupyter-widgets/controls",
      "model_module_version": "1.5.0",
      "model_name": "HTMLModel",
      "state": {
       "layout": "IPY_MODEL_aa042b71249942c184ff4c133cf5fc5d",
       "style": "IPY_MODEL_77b7bf912cb242da81dfed1937ad2715",
       "value": "<h5>Job ID</h5>"
      }
     },
     "ccd383f9555c4b669fb024aa9fa13fcb": {
      "model_module": "@jupyter-widgets/controls",
      "model_module_version": "1.5.0",
      "model_name": "DescriptionStyleModel",
      "state": {
       "description_width": ""
      }
     },
     "d38cdb186a0b45c9a1a6b6221d888346": {
      "model_module": "@jupyter-widgets/controls",
      "model_module_version": "1.5.0",
      "model_name": "DescriptionStyleModel",
      "state": {
       "description_width": ""
      }
     },
     "e6f1cf0da6544118914917aacd5f053f": {
      "model_module": "@jupyter-widgets/controls",
      "model_module_version": "1.5.0",
      "model_name": "DescriptionStyleModel",
      "state": {
       "description_width": ""
      }
     },
     "f54d10295b9d4871a6f0dcb13b208f84": {
      "model_module": "@jupyter-widgets/controls",
      "model_module_version": "1.5.0",
      "model_name": "HTMLModel",
      "state": {
       "layout": "IPY_MODEL_926a87e358e04ee1adc3224b8b749232",
       "style": "IPY_MODEL_3954fc9e0f10468b86ce8204d6fac913",
       "value": "<p style='font-family: IBM Plex Sans, Arial, Helvetica, sans-serif; font-size: 20px; font-weight: medium;'>Circuit Properties</p>"
      }
     },
     "fe15432a4ede455f858c8e520e0d7671": {
      "model_module": "@jupyter-widgets/base",
      "model_module_version": "1.2.0",
      "model_name": "LayoutModel",
      "state": {
       "margin": "0px 0px 0px 37px",
       "width": "600px"
      }
     },
     "fe3037f4784046c49459fe0c2f3bd0af": {
      "model_module": "@jupyter-widgets/controls",
      "model_module_version": "1.5.0",
      "model_name": "HTMLModel",
      "state": {
       "layout": "IPY_MODEL_0c273a9848cd44c6a605d0d2679d9fe6",
       "style": "IPY_MODEL_024202da5d094c6ab18c23c5f334b3ee",
       "value": "<h5>Message</h5>"
      }
     },
     "ffbf65d5597040a2a29fe7b007e4c550": {
      "model_module": "@jupyter-widgets/controls",
      "model_module_version": "1.5.0",
      "model_name": "HTMLModel",
      "state": {
       "layout": "IPY_MODEL_51cc0b39184048e98c52c762d97bb8ce",
       "style": "IPY_MODEL_e6f1cf0da6544118914917aacd5f053f",
       "value": "<h5>Status</h5>"
      }
     }
    },
    "version_major": 2,
    "version_minor": 0
   }
  }
 },
 "nbformat": 4,
 "nbformat_minor": 4
}
