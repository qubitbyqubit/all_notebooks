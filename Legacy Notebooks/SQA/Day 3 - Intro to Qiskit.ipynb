{
 "cells": [
  {
   "cell_type": "markdown",
   "id": "d2497f68-e565-4dec-8d5e-ec337e37128e",
   "metadata": {
    "id": "d2497f68-e565-4dec-8d5e-ec337e37128e"
   },
   "source": [
    "<div style=\"text-align: center; margin: 50px\">\n",
    "\n",
    "<h1 style=\"text-align: center;\">Qubit by Qubit</h1>\n",
    "<h2 style=\"text-align: center;\">Introduction to Quantum Computing</h1>\n",
    "<h3>Creating Quantum Circuits</h3>\n",
    "<h3>Lab notebook</h3>\n",
    "\n",
    "</div>"
   ]
  },
  {
   "cell_type": "code",
   "execution_count": null,
   "id": "863aa459-349d-43be-b305-f1ca757b4858",
   "metadata": {
    "id": "863aa459-349d-43be-b305-f1ca757b4858"
   },
   "outputs": [],
   "source": [
    "# Importing standard Qiskit libraries\n",
    "from qiskit import QuantumCircuit  #Importing the QuantumCircuit function from Qiskit. We will use this to create our quantum circuits!\n",
    "\n",
    "# We will use these functions to run our circuit and visualize its final state\n",
    "from qiskit import Aer, execute, IBMQ \n",
    "from qiskit.visualization import *\n",
    "\n",
    "import warnings  # We are using this library to suppress some warning messages\n",
    "warnings.filterwarnings(\"ignore\")\n",
    "\n",
    "provider = IBMQ.load_account()\n",
    "print(\"Libraries imported successfully!\")"
   ]
  },
  {
   "cell_type": "code",
   "execution_count": null,
   "id": "8960aede-1965-4905-92ba-4ee36f22855f",
   "metadata": {
    "id": "8960aede-1965-4905-92ba-4ee36f22855f"
   },
   "outputs": [],
   "source": [
    "# Block 1- Step 1: Define a one-qubit quantum circuit named qc"
   ]
  },
  {
   "cell_type": "code",
   "execution_count": null,
   "id": "16270af8-0939-4286-a44a-470451fe1d61",
   "metadata": {
    "id": "16270af8-0939-4286-a44a-470451fe1d61"
   },
   "outputs": [],
   "source": [
    "# Block 2- Step 2: Add an X gate to your quantum circuit using qc.x(0)"
   ]
  },
  {
   "cell_type": "code",
   "execution_count": null,
   "id": "61044710-2907-494a-a775-16ed75bb66a7",
   "metadata": {
    "id": "61044710-2907-494a-a775-16ed75bb66a7"
   },
   "outputs": [],
   "source": [
    "# Block 3 - Draw your quantum circuit using qc.draw()"
   ]
  },
  {
   "cell_type": "code",
   "execution_count": null,
   "id": "099f3744-dc19-43b9-9649-8a196d67015f",
   "metadata": {
    "id": "099f3744-dc19-43b9-9649-8a196d67015f"
   },
   "outputs": [],
   "source": [
    "# Block 4 - Step 3: Visualize the result of your circuit using visualize_transition(qc, trace=True)"
   ]
  },
  {
   "cell_type": "code",
   "execution_count": null,
   "id": "cd12c286-8bb3-4277-b79f-75447b86cbb5",
   "metadata": {
    "id": "cd12c286-8bb3-4277-b79f-75447b86cbb5"
   },
   "outputs": [],
   "source": [
    "# Block 5 - Step 1: Create a quantum circuit with 1 qubit and 1 classical bit"
   ]
  },
  {
   "cell_type": "code",
   "execution_count": null,
   "id": "171da160-ff63-45d8-83a3-7cecde1e3162",
   "metadata": {
    "id": "171da160-ff63-45d8-83a3-7cecde1e3162"
   },
   "outputs": [],
   "source": [
    "# Block 6 - Step 2: Add an H gate to your circuit and draw it"
   ]
  },
  {
   "cell_type": "code",
   "execution_count": null,
   "id": "edbe237d-88f3-4150-bbf7-33f7a7d37394",
   "metadata": {
    "id": "edbe237d-88f3-4150-bbf7-33f7a7d37394"
   },
   "outputs": [],
   "source": [
    "# Block 7 - Step 2: Add a measurement to your circuit using qc.measure(0,0)\n"
   ]
  },
  {
   "cell_type": "code",
   "execution_count": null,
   "id": "ace1275a-fd82-4eec-a595-b0c093eb5654",
   "metadata": {
    "id": "ace1275a-fd82-4eec-a595-b0c093eb5654"
   },
   "outputs": [],
   "source": [
    "# Block 8 - Draw your circuit\n"
   ]
  },
  {
   "cell_type": "code",
   "execution_count": null,
   "id": "e0b6ebc0-237d-4661-8acd-f87312e5c3aa",
   "metadata": {
    "id": "e0b6ebc0-237d-4661-8acd-f87312e5c3aa"
   },
   "outputs": [],
   "source": [
    "# Block 9 - Step 3: Run your circuit using the QASM simulator\n",
    "\n",
    "# Step 3.1 - Setting up and running the QASM simulator.\n",
    "backend = Aer.get_backend('qasm_simulator') # Choosing the simulator we want to use\n",
    "job = execute(qc, backend, shots = 1024) # Running the simulator - specifying the circuit we want to simulate and the number of times we want to simulate it (shots)\n",
    "result = job.result() # Getting the result from the simulator\n",
    "\n",
    "# Step 3.2 - Visualizing the results of the QASM simulator \n",
    "counts = result.get_counts() # Getting the counts of 0 and 1 from the result\n",
    "plot_histogram(counts) # Plotting the counts of 0 and 1"
   ]
  },
  {
   "cell_type": "code",
   "execution_count": null,
   "id": "91c69206-4f51-446a-8471-e0dc05fc2f5a",
   "metadata": {
    "id": "91c69206-4f51-446a-8471-e0dc05fc2f5a"
   },
   "outputs": [],
   "source": [
    "# Block 10 - Create a quantum circuit with 1 qubit and 1 classical bit. \n",
    "# Add an X gate and then an H gate to the circuit. \n",
    "# Add a measurement to the circuit and draw it.\n"
   ]
  },
  {
   "cell_type": "code",
   "execution_count": null,
   "id": "a3ca190d-2613-4621-a991-3e09264958c8",
   "metadata": {
    "id": "a3ca190d-2613-4621-a991-3e09264958c8"
   },
   "outputs": [],
   "source": [
    "# Block 11 - Set up and run the circuit using the QASM simulator. You can copy the code from Block 9.\n"
   ]
  },
  {
   "cell_type": "code",
   "execution_count": null,
   "id": "ebbbe94f-f584-49b2-a94c-2d499870c45b",
   "metadata": {
    "id": "ebbbe94f-f584-49b2-a94c-2d499870c45b"
   },
   "outputs": [],
   "source": [
    "# Block 12 - Create a quantum circuit with 1 qubit and 1 classical bit. Add two X gates to this circuit. Add a measurement to this circuit and draw it. \n"
   ]
  },
  {
   "cell_type": "code",
   "execution_count": null,
   "id": "f145d724-fb39-4407-9f14-626e74cbc763",
   "metadata": {
    "id": "f145d724-fb39-4407-9f14-626e74cbc763"
   },
   "outputs": [],
   "source": [
    "# Block 13 - This block finds the least busy quantum computer from all the devices available on IBM Quantum Experience.\n",
    "# Run this block and let your TA know which backend you got!\n",
    "\n",
    "from qiskit.providers.ibmq import least_busy\n",
    "backend = least_busy(provider.backends(filters=lambda x: x.configuration().n_qubits >= 2 and \n",
    "                                        not x.configuration().simulator and x.status().operational==True))\n",
    "print(backend)"
   ]
  },
  {
   "cell_type": "code",
   "execution_count": null,
   "id": "8d94f68e-9c72-440d-8a5d-ba5e9d190f82",
   "metadata": {
    "id": "8d94f68e-9c72-440d-8a5d-ba5e9d190f82"
   },
   "outputs": [],
   "source": [
    "# Block 14 - Run this block to send your circuit to be run on a real quantum computer!\n",
    "job = execute(qc, backend, shots = 1024)\n",
    "result = job.result()\n",
    "counts = result.get_counts()\n",
    "plot_histogram(counts)"
   ]
  },
  {
   "cell_type": "code",
   "execution_count": null,
   "id": "623acb0b-9ca9-4cff-b755-bb7198955fb4",
   "metadata": {
    "id": "623acb0b-9ca9-4cff-b755-bb7198955fb4"
   },
   "outputs": [],
   "source": [
    "# Qiskit Challenge exercise 1 - The Z gate\n",
    "# In lecture we discussed the X and H gates. Another fundamental quantum gate is the Z gate.\n",
    "# Create a quantum circuit (with 1 qubit and no classical bits) with an H gate followed by a Z gate. Can you guess what the code for adding a Z gate would be?\n",
    "# Simulate this circuit using the visualize_transition function from the first part of lab\n",
    "# What can you say about the action of the Z gate? Is it also a rotation? About which axis of the Bloch sphere?"
   ]
  },
  {
   "cell_type": "code",
   "execution_count": null,
   "id": "5a31007f-d510-4f75-8d78-252352accc88",
   "metadata": {
    "id": "5a31007f-d510-4f75-8d78-252352accc88"
   },
   "outputs": [],
   "source": [
    "# Qiskit Challenge exercise 2 - Ordering of gates\n",
    "# In this exercise, we will explore whether the ordering of gates in a circuit is important or not\n",
    "# Create a quantum circut with a Z gate followed by an H gate. Note that the order of gates in this circuit is the reverse of the circuit from Challenge 1\n",
    "# Simulate this circuit using visualize_transition.\n",
    "# Is the final state of the circuit the same as that for the circuit in challenge 1? "
   ]
  }
 ],
 "metadata": {
  "colab": {
   "collapsed_sections": [],
   "name": "Day 3 - Intro to Qiskit.ipynb",
   "provenance": []
  },
  "kernelspec": {
   "display_name": "Python 3 (ipykernel)",
   "language": "python",
   "name": "python3"
  },
  "language_info": {
   "codemirror_mode": {
    "name": "ipython",
    "version": 3
   },
   "file_extension": ".py",
   "mimetype": "text/x-python",
   "name": "python",
   "nbconvert_exporter": "python",
   "pygments_lexer": "ipython3",
   "version": "3.9.5"
  }
 },
 "nbformat": 4,
 "nbformat_minor": 5
}
