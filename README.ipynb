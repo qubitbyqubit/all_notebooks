{
 "cells": [
  {
   "cell_type": "markdown",
   "id": "412a8219-aff3-4258-94f0-d04c8e7e569e",
   "metadata": {},
   "source": [
    "# Core QxQ Notebook Repository\n",
    "\n",
    "[TOC]\n",
    "\n",
    "## Quick Actions:\n",
    "\n",
    "#### [Magic IQX Link for this repository](https://lab.quantum-computing.ibm.com/hub/user-redirect/git-pull?repo=https://github.com/qubitbyqubit/all_notebooks&urlpath=lab/tree/all_notebooks/README.ipynb&branch=main)\n",
    "\n",
    "#### [Full Guidelines Doc (must have TCS Account)](https://docs.google.com/document/d/1U0oGSznUXcw3CG29AxF_z7rCdvuKGn70W9Z3zSjANWE/edit?usp=sharing)\n",
    "\n",
    "## **Making *Magic* links for Material Distribution**\n",
    "\n",
    "N.B. Gitpuller links are great for easily doing a git clone command straight into a jupyter lab environment without using the command line. Repositories must be public, and the since IQX only has a lab environment without a notebook tree \"/hub/\" must be used.\n",
    "\n",
    "Git puller page: https://jupyterhub.github.io/nbgitpuller/link\n",
    "\n",
    "**Specifics for IQX:**\n",
    "\n",
    "IQX Slug: https://lab.quantum-computing.ibm.com\n",
    "\n",
    "Example for this repo: (https://lab.quantum-computing.ibm.com/hub/user-redirect/git-pull?repo=https://github.com/qubitbyqubit/all_notebooks&urlpath=lab/tree/all_notebooks/README.ipynb&branch=main)\n",
    "\n",
    "## Short Notebook guidelines\n",
    "\n",
    "1. All notebooks are solution copies, using the form:\n",
    "\n",
    "```python\n",
    "# BLOCK 1\n",
    "### Solution Start ###\n",
    "def solution():\n",
    "    return answer\n",
    "### Solution End ###\n",
    "```\n",
    "\n",
    "2. Notebooks should include the reproduction clause at the end."
   ]
  }
 ],
 "metadata": {
  "kernelspec": {
   "display_name": "Python 3 (ipykernel)",
   "language": "python",
   "name": "python3"
  },
  "language_info": {
   "codemirror_mode": {
    "name": "ipython",
    "version": 3
   },
   "file_extension": ".py",
   "mimetype": "text/x-python",
   "name": "python",
   "nbconvert_exporter": "python",
   "pygments_lexer": "ipython3",
   "version": "3.9.5"
  }
 },
 "nbformat": 4,
 "nbformat_minor": 5
}
